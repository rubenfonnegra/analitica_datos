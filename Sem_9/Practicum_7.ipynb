{
  "nbformat": 4,
  "nbformat_minor": 0,
  "metadata": {
    "colab": {
      "provenance": [],
      "collapsed_sections": [
        "JC-IJfoeK7hD",
        "GoGctqOGr9cx",
        "iLPTFOpGr3wk",
        "bJFRcNlZ6szP",
        "HP-iIOD36jyY",
        "MvRbi56sC3UZ"
      ]
    },
    "kernelspec": {
      "name": "python3",
      "display_name": "Python 3"
    },
    "language_info": {
      "name": "python"
    }
  },
  "cells": [
    {
      "cell_type": "markdown",
      "source": [
        "# **🗃️ Data Loading**"
      ],
      "metadata": {
        "id": "JC-IJfoeK7hD"
      }
    },
    {
      "cell_type": "markdown",
      "source": [
        "Useful dataset:\n",
        "- [Heart failure](https://drive.google.com/file/d/1JNtrwHJukzeK6l5ljvUgB8_8yESZ_qDK/view?usp=sharing)"
      ],
      "metadata": {
        "id": "48nV7VxI52d0"
      }
    },
    {
      "cell_type": "code",
      "source": [
        "import numpy as np\n",
        "import matplotlib.pyplot as plt\n",
        "import pandas as pd\n",
        "import seaborn as sns\n",
        "\n",
        "from sklearn.linear_model import LinearRegression\n",
        "from sklearn.preprocessing import StandardScaler\n",
        "from scipy.stats import probplot, norm\n",
        "\n",
        "import warnings\n",
        "warnings.filterwarnings('ignore')"
      ],
      "metadata": {
        "id": "XkpAlb6wrAkQ"
      },
      "execution_count": null,
      "outputs": []
    },
    {
      "cell_type": "markdown",
      "source": [
        "## Load data and take a small look"
      ],
      "metadata": {
        "id": "GoGctqOGr9cx"
      }
    },
    {
      "cell_type": "code",
      "source": [
        "data = pd.read_csv( _ )"
      ],
      "metadata": {
        "id": "wd3mgb5Brc23"
      },
      "execution_count": null,
      "outputs": []
    },
    {
      "cell_type": "code",
      "source": [
        "# plot continous-continous variables\n"
      ],
      "metadata": {
        "id": "KB_nkbarZing"
      },
      "execution_count": null,
      "outputs": []
    },
    {
      "cell_type": "code",
      "source": [
        "# plot categorical-continous variables"
      ],
      "metadata": {
        "id": "e5pINZrhZu11"
      },
      "execution_count": null,
      "outputs": []
    },
    {
      "cell_type": "markdown",
      "source": [
        "## Data Cleansing"
      ],
      "metadata": {
        "id": "iLPTFOpGr3wk"
      }
    },
    {
      "cell_type": "code",
      "source": [
        "num_missing = data.isnull().sum().sort_values(ascending=False)\n",
        "missing_percentage = _\n",
        "num_missing.head(20)"
      ],
      "metadata": {
        "id": "-Qlwa5EAr3Re"
      },
      "execution_count": null,
      "outputs": []
    },
    {
      "cell_type": "code",
      "source": [
        "missing = pd.concat([num_missing, missing_percentage], axis = 1, keys=['Total', 'Percentage'])\n",
        "print(missing.head(20))"
      ],
      "metadata": {
        "id": "XQT55mgaZCf3"
      },
      "execution_count": null,
      "outputs": []
    },
    {
      "cell_type": "code",
      "source": [
        "drop_columns = missing[ missing['Percentage']>0.10 ]\n",
        "print(drop_columns)"
      ],
      "metadata": {
        "colab": {
          "base_uri": "https://localhost:8080/"
        },
        "id": "OGsqpSgEteeB",
        "outputId": "db8bc484-1192-4581-efd5-c2dfa476cd25"
      },
      "execution_count": null,
      "outputs": [
        {
          "output_type": "stream",
          "name": "stdout",
          "text": [
            "Empty DataFrame\n",
            "Columns: [Total, Percentage]\n",
            "Index: []\n"
          ]
        }
      ]
    },
    {
      "cell_type": "code",
      "source": [
        "data_cl = data.drop(missing[missing['Percentage'] > 0.10].index.tolist(), axis=1)\n",
        "data_cl.isnull().sum().sort_values(ascending=False).head(20)\n",
        "# data_cl.head(10)"
      ],
      "metadata": {
        "id": "l4Abh9yQ2SWY"
      },
      "execution_count": null,
      "outputs": []
    },
    {
      "cell_type": "code",
      "source": [
        "data_cl.isnull().sum().sort_values(ascending=False).keys().tolist()"
      ],
      "metadata": {
        "id": "xfhE9gfZ5_jV"
      },
      "execution_count": null,
      "outputs": []
    },
    {
      "cell_type": "code",
      "source": [
        "for col in data_cl.isnull().sum().sort_values(ascending=False).keys().tolist():\n",
        "  data_cl = data_cl.drop(data_cl.loc[data_cl[col].isnull()].index)\n",
        "  print(col)\n",
        "\n",
        "data_cl.isnull().sum().sort_values(ascending=False).min()\n",
        "print (len(data_cl))"
      ],
      "metadata": {
        "id": "0IQsNFiy4fDb"
      },
      "execution_count": null,
      "outputs": []
    },
    {
      "cell_type": "markdown",
      "source": [
        "## Outliers"
      ],
      "metadata": {
        "id": "bJFRcNlZ6szP"
      }
    },
    {
      "cell_type": "code",
      "source": [
        "scaled_data_cl = _\n",
        "\n",
        "lower_bound = scaled_data_cl[scaled_data_cl[:, 0].argsort()][:10]\n",
        "upper_bound = scaled_data_cl[scaled_data_cl[:, 0].argsort()][-10:]\n",
        "print(lower_bound, '\\n', upper_bound)"
      ],
      "metadata": {
        "id": "c2eHrVA-6u8e"
      },
      "execution_count": null,
      "outputs": []
    },
    {
      "cell_type": "markdown",
      "source": [
        "## Normality test"
      ],
      "metadata": {
        "id": "HP-iIOD36jyY"
      }
    },
    {
      "cell_type": "code",
      "source": [
        "# Histogram and Q-Q plot on the distributions\n",
        "\n",
        "sns.distplot( _ , fit = norm);\n",
        "fig = plt.figure()\n",
        "res = probplot( _ , plot = plt)"
      ],
      "metadata": {
        "id": "H6uBXMZK6jjD"
      },
      "execution_count": null,
      "outputs": []
    },
    {
      "cell_type": "code",
      "source": [
        "data_cl = data_cl.select_dtypes(include = ['float64', 'int64'])\n",
        "data_cl.info()"
      ],
      "metadata": {
        "id": "nfOumx6JrmTy"
      },
      "execution_count": null,
      "outputs": []
    },
    {
      "cell_type": "code",
      "metadata": {
        "_cell_guid": "cced5b14-c39d-c847-6dc9-93af3f4b6e6d",
        "_execution_state": "idle",
        "_uuid": "f578838e98e9996b09abbec058200cb18aa38869",
        "id": "01u6nN24om_2"
      },
      "source": [
        "# Transformación de los datos:\n",
        "data_cl_tf = data_cl.copy()\n",
        "\n",
        "for col in data_cl.columns.tolist():\n",
        "  data_cl_tf[col].loc[data_cl_tf[col] != 0] = np.log( _ )"
      ],
      "execution_count": null,
      "outputs": []
    },
    {
      "cell_type": "code",
      "metadata": {
        "_cell_guid": "0e17fba2-3ff2-d6f1-841d-bc2a9746bcc2",
        "_execution_state": "idle",
        "_uuid": "de8366b3ad71c7cb398644766a412bee1d05642f",
        "id": "zv1do26aom_8"
      },
      "source": [
        "# Histogram and Q-Q plot on the distributions\n",
        "\n",
        "sns.distplot( _ , fit = norm);\n",
        "fig = plt.figure()\n",
        "res = probplot( _ , plot = plt)"
      ],
      "execution_count": null,
      "outputs": []
    },
    {
      "cell_type": "code",
      "source": [
        "# Histogram and Q-Q plot on the distributions\n",
        "\n",
        "sns.distplot( _ , fit = norm);\n",
        "fig = plt.figure()\n",
        "res = probplot( _ , plot = plt)"
      ],
      "metadata": {
        "id": "Ilqcrwv7qlfr"
      },
      "execution_count": null,
      "outputs": []
    },
    {
      "cell_type": "code",
      "source": [
        "sns.pairplot(data_cl_tf, corner=True)"
      ],
      "metadata": {
        "id": "HnS6b5iOviMf"
      },
      "execution_count": null,
      "outputs": []
    },
    {
      "cell_type": "code",
      "source": [
        "# Drop unnecesary columns\n",
        "_"
      ],
      "metadata": {
        "id": "X8qdC4XqwKGY"
      },
      "execution_count": null,
      "outputs": []
    },
    {
      "cell_type": "code",
      "source": [
        "# Convert data to arrays\n",
        "X = _\n",
        "y = _\n",
        "\n",
        "print(X.shape, y.shape)"
      ],
      "metadata": {
        "id": "QlA2icgyDb1j"
      },
      "execution_count": null,
      "outputs": []
    },
    {
      "cell_type": "markdown",
      "source": [
        "## Data Modeling"
      ],
      "metadata": {
        "id": "MvRbi56sC3UZ"
      }
    },
    {
      "cell_type": "code",
      "source": [
        "from sklearn.svm import SVC\n",
        "from sklearn.linear_model import LogisticRegression\n",
        "from sklearn.ensemble import GradientBoostingClassifier\n",
        "from sklearn.model_selection import train_test_split\n",
        "from sklearn.metrics import classification_report"
      ],
      "metadata": {
        "id": "_Y9eTe0RAF4m"
      },
      "execution_count": null,
      "outputs": []
    },
    {
      "cell_type": "code",
      "source": [
        "X_train, X_test, y_train, y_test = _\n",
        "\n",
        "print (X_train.shape, X_test.shape, y_train.shape, y_test.shape)"
      ],
      "metadata": {
        "colab": {
          "base_uri": "https://localhost:8080/"
        },
        "id": "AUjvDs-CDGpR",
        "outputId": "ee8ee199-cc61-4076-ab33-d263135c88d7"
      },
      "execution_count": null,
      "outputs": [
        {
          "output_type": "stream",
          "name": "stdout",
          "text": [
            "(3927, 5) (982, 5) (3927,) (982,)\n"
          ]
        }
      ]
    },
    {
      "cell_type": "markdown",
      "source": [
        "### Heart failure prediction"
      ],
      "metadata": {
        "id": "peJdkM3vyHhi"
      }
    },
    {
      "cell_type": "code",
      "source": [
        "gbr = GradientBoostingClassifier(n_estimators=100)\n",
        "_"
      ],
      "metadata": {
        "id": "ohF8WFceD-oK"
      },
      "execution_count": null,
      "outputs": []
    },
    {
      "cell_type": "code",
      "source": [
        "predictions = _\n",
        "metrics_ = classification_report(y_test, predictions)\n",
        "\n",
        "print (\"Report: \\n{0}\".format(metrics_))"
      ],
      "metadata": {
        "id": "f7AXJK33EXKC"
      },
      "execution_count": null,
      "outputs": []
    },
    {
      "cell_type": "code",
      "source": [
        "lgr = LogisticRegression()\n",
        "_"
      ],
      "metadata": {
        "id": "7OsBJO4bvX8t"
      },
      "execution_count": null,
      "outputs": []
    },
    {
      "cell_type": "code",
      "source": [
        "predictions = _\n",
        "metrics_ = classification_report(y_test, predictions)\n",
        "\n",
        "print (\"Report: {0}\".format(metrics_))"
      ],
      "metadata": {
        "id": "pbEN1A42vVJ0"
      },
      "execution_count": null,
      "outputs": []
    },
    {
      "cell_type": "code",
      "source": [
        "_, axes = plt.subplots(1,2, figsize=(10,5))\n",
        "\n",
        "var_h = 0\n",
        "var_v = 4\n",
        "name_h = data_cl_tf.columns[var_h+1]\n",
        "name_v = data_cl_tf.columns[var_v+1]\n",
        "\n",
        "axes[0].scatter( _ , _ , c = _ , alpha=0.6, cmap='Paired', edgecolors='k')\n",
        "axes[1].scatter( _ , _ , c = _ , alpha=0.6, cmap='Paired', edgecolors='k')\n",
        "\n",
        "axes[0].set_xlabel(name_h), axes[0].set_ylabel(name_v)\n",
        "axes[1].set_xlabel(name_h), axes[0].set_ylabel(name_v)"
      ],
      "metadata": {
        "id": "-GKkmcg2E1rB"
      },
      "execution_count": null,
      "outputs": []
    },
    {
      "cell_type": "markdown",
      "source": [
        "### Handling inbalanced data"
      ],
      "metadata": {
        "id": "pAzWx8ZmjiUr"
      }
    },
    {
      "cell_type": "code",
      "source": [
        "# Num of samples per class\n",
        "_"
      ],
      "metadata": {
        "id": "5pKf-hr8bM6s"
      },
      "execution_count": null,
      "outputs": []
    },
    {
      "cell_type": "code",
      "source": [
        "from sklearn.utils import resample\n",
        "\n",
        "Xr_train, yr_train = resample( _ , _ ,\n",
        "                              n_samples = _ ,    # to match majority class\n",
        "                              random_state = 1)  # reproducible results\n",
        "\n",
        "\n",
        "# Concatenate the resampled data to original data\n",
        "Xr_train = _\n",
        "yr_train = _"
      ],
      "metadata": {
        "id": "PZwr8wO4g3GE"
      },
      "execution_count": null,
      "outputs": []
    },
    {
      "cell_type": "code",
      "source": [
        "# Check the new data\n",
        "_"
      ],
      "metadata": {
        "id": "vmezrD4QhtU_"
      },
      "execution_count": null,
      "outputs": []
    },
    {
      "cell_type": "code",
      "source": [],
      "metadata": {
        "id": "LJcLYJwXeB4f"
      },
      "execution_count": null,
      "outputs": []
    },
    {
      "cell_type": "code",
      "source": [
        "## Retrain models\n",
        "gbr = GradientBoostingClassifier(n_estimators=100)\n",
        "_"
      ],
      "metadata": {
        "id": "eiYxmZ2R81db"
      },
      "execution_count": null,
      "outputs": []
    },
    {
      "cell_type": "code",
      "source": [
        "predictions = _\n",
        "metrics_ = classification_report(y_test, predictions)\n",
        "\n",
        "print (\"Report: \\n{0}\".format(metrics_))"
      ],
      "metadata": {
        "id": "M3I1dHmu81dd"
      },
      "execution_count": null,
      "outputs": []
    },
    {
      "cell_type": "code",
      "source": [
        "lgr = LogisticRegression()\n",
        "_"
      ],
      "metadata": {
        "id": "xdqtjTtC81dd"
      },
      "execution_count": null,
      "outputs": []
    },
    {
      "cell_type": "code",
      "source": [
        "predictions = _\n",
        "metrics_ = classification_report(y_test, predictions)\n",
        "\n",
        "print (\"Report: {0}\".format(metrics_))"
      ],
      "metadata": {
        "id": "624jSBp481dd"
      },
      "execution_count": null,
      "outputs": []
    },
    {
      "cell_type": "code",
      "source": [
        "_, axes = plt.subplots(1,2, figsize=(10,5))\n",
        "\n",
        "var_h = 0\n",
        "var_v = 4\n",
        "name_h = data_cl_tf.columns[var_h+1]\n",
        "name_v = data_cl_tf.columns[var_v+1]\n",
        "\n",
        "axes[0].scatter( _ , _ , c = _ , alpha=0.6, cmap='Paired', edgecolors='k')\n",
        "axes[1].scatter( _ , _ , c = _ , alpha=0.6, cmap='Paired', edgecolors='k')\n",
        "\n",
        "axes[0].set_xlabel(name_h), axes[0].set_ylabel(name_v)\n",
        "axes[1].set_xlabel(name_h), axes[0].set_ylabel(name_v)"
      ],
      "metadata": {
        "id": "_y5QOdDa81de"
      },
      "execution_count": null,
      "outputs": []
    }
  ]
}