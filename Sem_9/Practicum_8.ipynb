{
  "cells": [
    {
      "cell_type": "markdown",
      "metadata": {
        "id": "JC-IJfoeK7hD"
      },
      "source": [
        "# **🗃️ Data Loading**"
      ]
    },
    {
      "cell_type": "markdown",
      "metadata": {
        "id": "48nV7VxI52d0"
      },
      "source": [
        "Useful dataset:\n",
        "- [Toyota Cars](https://drive.google.com/file/d/1mPrg8J272y9EOOE0GdGjybDCOUmj9Wf6/view?usp=sharing)\n",
        "- [Houses in Iowa](https://www.kaggle.com/competitions/house-prices-advanced-regression-techniques/data?select=train.csv)"
      ]
    },
    {
      "cell_type": "code",
      "execution_count": null,
      "metadata": {
        "id": "XkpAlb6wrAkQ"
      },
      "outputs": [],
      "source": [
        "import numpy as np\n",
        "import matplotlib.pyplot as plt\n",
        "import pandas as pd\n",
        "import seaborn as sns\n",
        "\n",
        "from sklearn.preprocessing import StandardScaler\n",
        "from scipy.stats import probplot, norm"
      ]
    },
    {
      "cell_type": "markdown",
      "metadata": {
        "id": "GoGctqOGr9cx"
      },
      "source": [
        "## Load data and take a small look"
      ]
    },
    {
      "cell_type": "code",
      "execution_count": null,
      "metadata": {
        "id": "wd3mgb5Brc23"
      },
      "outputs": [],
      "source": [
        "data = pd.read_csv('train.csv')\n",
        "\n",
        "print (data.columns)\n",
        "data.head()"
      ]
    },
    {
      "cell_type": "code",
      "execution_count": null,
      "metadata": {
        "id": "1y_Sx2J6roLh"
      },
      "outputs": [],
      "source": [
        "# Print information about data variables\n",
        "_"
      ]
    },
    {
      "cell_type": "code",
      "execution_count": null,
      "metadata": {
        "id": "TYn8yw6Jru0k"
      },
      "outputs": [],
      "source": [
        "# Show descriptive stats about the dataset\n",
        "_"
      ]
    },
    {
      "cell_type": "code",
      "execution_count": null,
      "metadata": {
        "id": "G4HjzE4wsOuG"
      },
      "outputs": [],
      "source": [
        "# sns.scatterplot( _ )\n",
        "# sns.boxplot( _ )"
      ]
    },
    {
      "cell_type": "markdown",
      "metadata": {
        "id": "iLPTFOpGr3wk"
      },
      "source": [
        "## Data Cleansing"
      ]
    },
    {
      "cell_type": "code",
      "execution_count": null,
      "metadata": {
        "id": "-Qlwa5EAr3Re"
      },
      "outputs": [],
      "source": [
        "num_missing = _   # Compute columns with more than 15% missing data\n",
        "missing_percentage = (data.isnull().sum() / data.isnull().count()).sort_values(ascending=False)\n",
        "num_missing.head(20)\n",
        "\n",
        "missing = pd.concat([ _ , _ ], axis = 1, keys=['Total', 'Percentage'])"
      ]
    },
    {
      "cell_type": "code",
      "execution_count": null,
      "metadata": {
        "id": "OGsqpSgEteeB"
      },
      "outputs": [],
      "source": [
        "drop_columns = missing[ _ ] # List columns with those values\n",
        "print(drop_columns)"
      ]
    },
    {
      "cell_type": "code",
      "execution_count": null,
      "metadata": {
        "id": "l4Abh9yQ2SWY"
      },
      "outputs": [],
      "source": [
        "data_cl = data.drop(data[(missing[ missing['Percentage']>0.15 ]).index],1 )  # Drop columns\n",
        "\n",
        "# Show remaining missing\n",
        "data_cl.isnull().sum().sort_values(ascending=False).head(20)"
      ]
    },
    {
      "cell_type": "code",
      "execution_count": null,
      "metadata": {
        "id": "0IQsNFiy4fDb"
      },
      "outputs": [],
      "source": [
        "for col in data_cl.isnull().sum().sort_values(ascending=False).keys().tolist(): # Drop missing values\n",
        "  data_cl = data_cl.drop(data_cl.loc[data_cl[col].isnull()].index)\n",
        "  print(col)\n"
      ]
    },
    {
      "cell_type": "code",
      "execution_count": null,
      "metadata": {
        "id": "-nHSTdGBLXc4"
      },
      "outputs": [],
      "source": [
        "# Vefiry missing values\n",
        "data_cl.isnull().sum().sort_values(ascending=False).min()\n",
        "print (len(data_cl))"
      ]
    },
    {
      "cell_type": "markdown",
      "metadata": {
        "id": "bJFRcNlZ6szP"
      },
      "source": [
        "## Outliers"
      ]
    },
    {
      "cell_type": "code",
      "execution_count": null,
      "metadata": {
        "id": "9hnFYtPS70kW"
      },
      "outputs": [],
      "source": [
        "data_cl.columns"
      ]
    },
    {
      "cell_type": "code",
      "execution_count": null,
      "metadata": {
        "id": "c2eHrVA-6u8e"
      },
      "outputs": [],
      "source": [
        "scaled_data_cl = StandardScaler().fit_transform(data_cl['SalePrice'].values.reshape(-1,1))\n",
        "\n",
        "# 10 outliners - we dont have that many\n",
        "lower_bound = scaled_data_cl[scaled_data_cl[:, 0].argsort()][:10]\n",
        "upper_bound = scaled_data_cl[scaled_data_cl[:, 0].argsort()][-10:]\n",
        "print(lower_bound, upper_bound)"
      ]
    },
    {
      "cell_type": "code",
      "execution_count": null,
      "metadata": {
        "id": "Jx1t92-b94U8"
      },
      "outputs": [],
      "source": [
        "sns.histplot(data_cl, x= 'SalePrice', kde=True, bins=len(np.arange(0,len(data_cl),10)))"
      ]
    },
    {
      "cell_type": "markdown",
      "metadata": {
        "id": "HP-iIOD36jyY"
      },
      "source": [
        "## Normality test"
      ]
    },
    {
      "cell_type": "code",
      "execution_count": null,
      "metadata": {
        "id": "wWgYOCw_Lo7o"
      },
      "outputs": [],
      "source": [
        "data_cl.info()\n",
        "data_cl = data_cl.select_dtypes(include = ['float64', 'int64']) #Convert values to numbers\n",
        "data_cl.info()"
      ]
    },
    {
      "cell_type": "code",
      "execution_count": null,
      "metadata": {
        "id": "H6uBXMZK6jjD"
      },
      "outputs": [],
      "source": [
        "sns.distplot(data_cl['SalePrice'], fit = norm);\n",
        "fig = plt.figure()\n",
        "res = probplot(_,  plot = plt)"
      ]
    },
    {
      "cell_type": "code",
      "execution_count": null,
      "metadata": {
        "id": "HgexoBuiL7gJ"
      },
      "outputs": [],
      "source": [
        "sns.distplot(data_cl['TotalBsmtSF'], fit = norm);\n",
        "fig = plt.figure()\n",
        "res = probplot(data_cl['TotalBsmtSF'], plot = plt)"
      ]
    },
    {
      "cell_type": "code",
      "execution_count": null,
      "metadata": {
        "_cell_guid": "cced5b14-c39d-c847-6dc9-93af3f4b6e6d",
        "_execution_state": "idle",
        "_uuid": "f578838e98e9996b09abbec058200cb18aa38869",
        "id": "01u6nN24om_2"
      },
      "outputs": [],
      "source": [
        "# Transformación de los datos:\n",
        "data_cl_tf = data_cl.copy()\n",
        "\n",
        "for col in data_cl.columns.tolist():\n",
        "  data_cl_tf[col].loc[data_cl_tf[col] != 0] = np.log(data_cl[col].loc[data_cl[col] != 0]) # Normalize"
      ]
    },
    {
      "cell_type": "code",
      "execution_count": null,
      "metadata": {
        "_cell_guid": "0e17fba2-3ff2-d6f1-841d-bc2a9746bcc2",
        "_execution_state": "idle",
        "_uuid": "de8366b3ad71c7cb398644766a412bee1d05642f",
        "id": "zv1do26aom_8"
      },
      "outputs": [],
      "source": [
        "# Histograma y gráfico de probabilidad normal sobre los datos transformados:\n",
        "\n",
        "sns.distplot(data_cl_tf['SalePrice'], fit = norm);\n",
        "fig = plt.figure()\n",
        "res = probplot(data_cl_tf['SalePrice'] , plot = plt)"
      ]
    },
    {
      "cell_type": "code",
      "execution_count": null,
      "metadata": {
        "id": "R7US9Z14sCaJ"
      },
      "outputs": [],
      "source": [
        "sns.distplot(data_cl_tf['TotalBsmtSF'], fit = norm);\n",
        "fig = plt.figure()\n",
        "res = probplot(data_cl_tf['TotalBsmtSF'], plot = plt)"
      ]
    },
    {
      "cell_type": "code",
      "execution_count": null,
      "metadata": {
        "id": "PT1kibpvsfVc"
      },
      "outputs": [],
      "source": [
        "data_cl_tf.head()"
      ]
    },
    {
      "cell_type": "code",
      "execution_count": null,
      "metadata": {
        "id": "HnS6b5iOviMf"
      },
      "outputs": [],
      "source": [
        "sns.pairplot(data_cl_tf, corner=True)"
      ]
    },
    {
      "cell_type": "code",
      "execution_count": null,
      "metadata": {
        "id": "X8qdC4XqwKGY"
      },
      "outputs": [],
      "source": [
        "data_cl_tf = data_cl_tf.drop(['Id'], axis=1)"
      ]
    },
    {
      "cell_type": "markdown",
      "metadata": {
        "id": "MvRbi56sC3UZ"
      },
      "source": [
        "## Data Modeling"
      ]
    },
    {
      "cell_type": "markdown",
      "metadata": {
        "id": "peJdkM3vyHhi"
      },
      "source": [
        "### First product - Sale price prediction"
      ]
    },
    {
      "cell_type": "code",
      "execution_count": null,
      "metadata": {
        "id": "_Y9eTe0RAF4m"
      },
      "outputs": [],
      "source": [
        "from sklearn.linear_model import LinearRegression\n",
        "from sklearn.ensemble import GradientBoostingRegressor\n",
        "from sklearn.model_selection import train_test_split\n",
        "from sklearn.metrics import mean_squared_error as mse"
      ]
    },
    {
      "cell_type": "code",
      "execution_count": null,
      "metadata": {
        "id": "SLSlHa0lMArR"
      },
      "outputs": [],
      "source": [
        "X = np.array( _ )\n",
        "y = np.array( _ )\n",
        "\n",
        "print(X.shape, y.shape)"
      ]
    },
    {
      "cell_type": "code",
      "execution_count": null,
      "metadata": {
        "id": "AUjvDs-CDGpR"
      },
      "outputs": [],
      "source": [
        "X_train, X_test, y_train, y_test = train_test_split(X, y, test_size=0.2, random_state = 1)\n",
        "\n",
        "print ( _ )"
      ]
    },
    {
      "cell_type": "code",
      "execution_count": null,
      "metadata": {
        "id": "ohF8WFceD-oK"
      },
      "outputs": [],
      "source": [
        "gbr = GradientBoostingRegressor(n_estimators=100)\n",
        "gbr.fit (X_train, y_train)"
      ]
    },
    {
      "cell_type": "code",
      "execution_count": null,
      "metadata": {
        "id": "f7AXJK33EXKC"
      },
      "outputs": [],
      "source": [
        "predictions = gbr.predict( _ )\n",
        "mse_score = mse(y_test, predictions)\n",
        "\n",
        "print (\"MSE: {0:.5f}\".format(mse_score))"
      ]
    },
    {
      "cell_type": "code",
      "execution_count": null,
      "metadata": {
        "id": "-GKkmcg2E1rB"
      },
      "outputs": [],
      "source": [
        "_, ax = plt.subplots(figsize=(6,5))\n",
        "\n",
        "ax.scatter(X_test[:, 0], y_test, facecolors=\"none\", edgecolors='k')\n",
        "ax.scatter(X_test[:, 0], predictions, alpha=0.5, edgecolors='k')"
      ]
    },
    {
      "cell_type": "code",
      "execution_count": null,
      "metadata": {
        "id": "U5jAKTiWGi9z"
      },
      "outputs": [],
      "source": [
        "lrm = LinearRegression()\n",
        "lrm.fit (X_train, y_train)"
      ]
    },
    {
      "cell_type": "code",
      "execution_count": null,
      "metadata": {
        "id": "GsAUltfmGi90"
      },
      "outputs": [],
      "source": [
        "predictions = lrm.predict(X_test)\n",
        "mse_score = mse(y_test, predictions)\n",
        "\n",
        "print (\"MSE: {0:.5f}\".format(mse_score))"
      ]
    },
    {
      "cell_type": "code",
      "execution_count": null,
      "metadata": {
        "id": "mKPoBI87Gi90"
      },
      "outputs": [],
      "source": [
        "_, ax = plt.subplots(figsize=(6,5))\n",
        "\n",
        "ax.scatter(X_test[:, 0], y_test, facecolors=\"none\", edgecolors='k')\n",
        "ax.scatter(X_test[:, 0], predictions, alpha=0.5, edgecolors='k')"
      ]
    },
    {
      "cell_type": "code",
      "execution_count": null,
      "metadata": {
        "id": "r-QFqTAiGrIe"
      },
      "outputs": [],
      "source": []
    },
    {
      "cell_type": "markdown",
      "metadata": {
        "id": "G1XpA-WhyWbC"
      },
      "source": [
        "### Second product - Quality estimation"
      ]
    },
    {
      "cell_type": "code",
      "execution_count": null,
      "metadata": {
        "id": "QLA_8KsrFZJm"
      },
      "outputs": [],
      "source": [
        "data_cl_tf2 = data_cl_tf.copy()\n",
        "\n",
        "vals = _\n",
        "for i, val in enumerate(vals): data_cl_tf2['OverallQual'].replace(val, i, inplace=True)\n"
      ]
    },
    {
      "cell_type": "code",
      "execution_count": null,
      "metadata": {
        "id": "_iT3-J8QDqsC"
      },
      "outputs": [],
      "source": [
        "print (data_cl_tf2.columns)\n",
        "X = np.concatenate([ _ , _ ], axis=1)\n",
        "y = np.array( _ )\n",
        "\n",
        "print(X.shape, y.shape)"
      ]
    },
    {
      "cell_type": "code",
      "execution_count": null,
      "metadata": {
        "colab": {
          "base_uri": "https://localhost:8080/"
        },
        "id": "dExmE-i8J7Z4",
        "outputId": "4da255a1-eb91-489c-d18e-2492c5d77f2c"
      },
      "outputs": [
        {
          "name": "stdout",
          "output_type": "stream",
          "text": [
            "(1070, 33) (268, 33) (1070,) (268,)\n"
          ]
        }
      ],
      "source": [
        "X_train, X_test, y_train, y_test = train_test_split(X, y, test_size=0.2, random_state = 1)\n",
        "\n",
        "print (X_train.shape, X_test.shape, y_train.shape, y_test.shape)"
      ]
    },
    {
      "cell_type": "code",
      "execution_count": null,
      "metadata": {
        "id": "J3i9P91RI5y5"
      },
      "outputs": [],
      "source": [
        "from sklearn.neighbors import KNeighborsClassifier\n",
        "from sklearn.svm import SVC\n",
        "from sklearn.linear_model import LogisticRegression\n",
        "from sklearn.metrics import classification_report, confusion_matrix"
      ]
    }
  ],
  "metadata": {
    "colab": {
      "provenance": []
    },
    "kernelspec": {
      "display_name": "Python 3",
      "name": "python3"
    },
    "language_info": {
      "name": "python"
    }
  },
  "nbformat": 4,
  "nbformat_minor": 0
}
