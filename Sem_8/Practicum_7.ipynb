{
  "nbformat": 4,
  "nbformat_minor": 0,
  "metadata": {
    "colab": {
      "provenance": [],
      "collapsed_sections": [
        "JC-IJfoeK7hD",
        "DxrrSG1voiSd",
        "pXWye_RQo3r3",
        "a3rbTo0zMCeW"
      ]
    },
    "kernelspec": {
      "name": "python3",
      "display_name": "Python 3"
    },
    "language_info": {
      "name": "python"
    }
  },
  "cells": [
    {
      "cell_type": "markdown",
      "source": [
        "# **🗃️ Data Lab**"
      ],
      "metadata": {
        "id": "JC-IJfoeK7hD"
      }
    },
    {
      "cell_type": "markdown",
      "source": [
        "Useful datasets:\n",
        "\n",
        "- [Students Performance](https://drive.google.com/file/d/1YwqZvaf0B7gW0cutfgD7berjkBSRVzPk/view?usp=sharing)\n",
        "- [Heart Disease](https://drive.google.com/file/d/1lQ-3-dmVpJBq0eXcQp3nRgKNnn-TAP_n/view?usp=sharing)\n",
        "- [Medical insurance](https://drive.google.com/file/d/1n_An4atBisD6FlO8k467Iz2sZjsujVF5/view?usp=sharing)"
      ],
      "metadata": {
        "id": "48nV7VxI52d0"
      }
    },
    {
      "cell_type": "markdown",
      "source": [
        "## Generate samples 🎯"
      ],
      "metadata": {
        "id": "DxrrSG1voiSd"
      }
    },
    {
      "cell_type": "code",
      "execution_count": null,
      "metadata": {
        "id": "uTPPONJHzBR5",
        "cellView": "form"
      },
      "outputs": [],
      "source": [
        "import time\n",
        "import warnings\n",
        "warnings.filterwarnings(\"ignore\")\n",
        "\n",
        "import numpy as np\n",
        "import matplotlib.pyplot as plt\n",
        "\n",
        "from sklearn import datasets\n",
        "from sklearn.preprocessing import StandardScaler\n",
        "\n",
        "# @markdown \\\n",
        "\n",
        "# ============\n",
        "# Parameters\n",
        "# ============\n",
        "\n",
        "n_samples = 500 # @param {type:\"integer\"}\n",
        "type_dataset = \"blobs\" # @param [\"noisy_circles\", \"noisy_moons\", \"blobs\", \"no_structure\", \"anisotropic\", \"varied_var\"]\n",
        "noise = 0.04 # @param {type:\"slider\", min:0, max:0.5, step:0.01}\n",
        "angle_aniso = 100 # @param {type:\"slider\", min:0, max:180, step:10}\n",
        "random_state = 2 # @param {type:\"integer\"}\n",
        "\n",
        "\n",
        "# ============\n",
        "# Generate datasets. We choose the size big enough to see the scalability\n",
        "# of the algorithms, but not too big to avoid too long running times\n",
        "# ============\n",
        "\n",
        "if type_dataset == \"noisy_circles\":\n",
        "  X, _ = datasets.make_circles(n_samples=n_samples, factor=0.5, noise=noise, random_state=random_state)\n",
        "\n",
        "elif type_dataset == \"noisy_moons\":\n",
        "  X, _ = datasets.make_moons(n_samples=n_samples, noise=noise, random_state=random_state)\n",
        "\n",
        "elif type_dataset == \"blobs\":\n",
        "  X, _ = datasets.make_blobs(n_samples=n_samples, random_state=random_state)\n",
        "  X += np.random.rand(n_samples, 2)*noise*X.min()\n",
        "\n",
        "elif type_dataset == \"no_structure\":\n",
        "  X = np.random.rand(n_samples, 2)\n",
        "\n",
        "elif type_dataset == \"anisotropic\":\n",
        "  X, _ = datasets.make_blobs(n_samples=n_samples, random_state=random_state)\n",
        "  t = np.tan(np.radians(angle_aniso))\n",
        "  transformation = np.array(((1, t), (0, 1))).T\n",
        "  X = np.dot(X, transformation)\n",
        "  X += np.random.rand(n_samples, 2)*noise*X.min()\n",
        "\n",
        "elif type_dataset == \"varied_var\":\n",
        "  X, _ = datasets.make_blobs(n_samples=n_samples, cluster_std=[1.0, 2.5, 0.5], random_state=random_state)\n",
        "  X += np.random.rand(n_samples, 2)*noise*X.min()\n",
        "\n",
        "X = StandardScaler().fit_transform(X)\n",
        "\n",
        "_, ax = plt.subplots(figsize=(5,4))\n",
        "ax.scatter(X[:, 0], X[:, 1], edgecolors='k')\n",
        "\n",
        "print (\"\\nData shape: {0} \\n\".format(X.shape))"
      ]
    },
    {
      "cell_type": "markdown",
      "source": [
        "## Load a dataset 📑"
      ],
      "metadata": {
        "id": "pXWye_RQo3r3"
      }
    },
    {
      "cell_type": "code",
      "source": [
        "# @markdown ---\n",
        "\n",
        "# @markdown \\\n",
        "# @markdown ### 🔼 Upload your file (first)\n",
        "# @markdown \\\n",
        "\n",
        "# @markdown ---\n",
        "# @markdown ### Enter path to **.csv* file:\n",
        "file_path = \"/content/heart_disease_uci.csv\" # @param {type:\"string\"}\n",
        "\n",
        "var_h = \"age\" # @param {type:\"string\"}\n",
        "var_v = \"chol\" # @param {type:\"string\"}\n",
        "labels = \"\" # @param {type:\"string\"}\n",
        "normalization = \"None\" # @param [\"MinMax [0,1]\", \"MinMax [-1,1]\", \"Z-Score\", \"None\"]\n",
        "Load_all_data = True # @param {type:\"boolean\"}\n",
        "Remove_missing = True # @param {type:\"boolean\"}\n",
        "\n",
        "import numpy as np\n",
        "import pandas as pd\n",
        "import seaborn as sns\n",
        "import matplotlib.pyplot as plt\n",
        "from sklearn.preprocessing import StandardScaler, MinMaxScaler\n",
        "import warnings\n",
        "warnings.filterwarnings(\"ignore\")\n",
        "\n",
        "data = pd.read_csv(file_path)\n",
        "\n",
        "if Remove_missing:\n",
        "  data = data.dropna()\n",
        "\n",
        "if not Load_all_data:\n",
        "  X = np.c_[np.array(data[var_h]), np.array(data[var_v])]\n",
        "else:\n",
        "  X = np.array(data)\n",
        "\n",
        "y = np.array(data[labels]) if labels != \"\" else None\n",
        "\n",
        "if   normalization == \"MinMax [0,1]\":\n",
        "  X = MinMaxScaler().fit_transform(X)\n",
        "elif normalization == \"MinMax [-1,1]\":\n",
        "  X = MinMaxScaler(feature_range=(-1,1)).fit_transform(X)\n",
        "elif normalization == \"Z-Score\":\n",
        "  X = StandardScaler().fit_transform(X)\n",
        "\n",
        "\n",
        "if not Load_all_data:\n",
        "  data[var_h], data[var_v] = X[:, 0], X[:, 1]\n",
        "else:\n",
        "  for i in range(len(data.columns)):\n",
        "    data.iloc[:, i] = X[:, i]\n",
        "\n",
        "\n",
        "\n",
        "\n",
        "_, ax = plt.subplots (figsize=(5,4))\n",
        "# ax.scatter(X[:, 0], X[:, 1], c=y, cmap='Paired', edgecolors='k')\n",
        "sns.scatterplot(ax=ax,data=data,x=var_h,y=var_v, hue=labels if labels != \"\" else None, palette='colorblind')\n",
        "print (\"\\nData Loaded! ✅\")\n",
        "print (\" - Shape: {0}\\n\".format(X.shape))"
      ],
      "metadata": {
        "id": "YP61e7ngtFAE",
        "cellView": "form"
      },
      "execution_count": null,
      "outputs": []
    },
    {
      "cell_type": "markdown",
      "source": [
        " # **📋 Finding annomalies**"
      ],
      "metadata": {
        "id": "a3rbTo0zMCeW"
      }
    },
    {
      "cell_type": "code",
      "source": [
        "# @markdown ### Boxplot\n",
        "\n",
        "var_name = \"chol\" # @param {type:\"string\"}\n",
        "\n",
        "def out_iqr(df , column):\n",
        "    global lower,upper\n",
        "    q25, q75 = np.quantile(df[column], 0.25), np.quantile(df[column], 0.75)\n",
        "    # calculate the IQR\n",
        "    iqr = q75 - q25\n",
        "    # calculate the outlier cutoff\n",
        "    cut_off = iqr * 1.5\n",
        "    # calculate the lower and upper bound value\n",
        "    lower, upper = q25 - cut_off, q75 + cut_off\n",
        "    # print('The IQR is',iqr)\n",
        "    print('The lower bound value is: {0}'.format(lower))\n",
        "    print('The upper bound value is: {0}\\n'.format(upper))\n",
        "    # Calculate the number of records below and above lower and above bound value respectively\n",
        "    df1 = df[df[column] > upper]\n",
        "    df2 = df[df[column] < lower]\n",
        "    return print('Total number of outliers are: {0} \\n'.format(df1.shape[0]+ df2.shape[0]))\n",
        "\n",
        "out_iqr(data,'chol')\n",
        "\n",
        "_, axes = plt.subplots(1,2,figsize = (8,4))\n",
        "sns.boxplot(y = data[var_name], ax=axes[0])\n",
        "\n",
        "sns.distplot(data[var_name], kde=True, ax=axes[1])\n",
        "plt.axvspan(xmin = lower,xmax= data[var_name].min(),alpha=0.2, color='red')\n",
        "plt.axvspan(xmin = upper,xmax= data[var_name].max(),alpha=0.2, color='red')"
      ],
      "metadata": {
        "cellView": "form",
        "id": "-5m67-XQTbnL"
      },
      "execution_count": null,
      "outputs": []
    },
    {
      "cell_type": "code",
      "source": [
        "# @markdown ### Standard Deviation\n",
        "\n",
        "var_name = \"chol\" # @param {type:\"string\"}\n",
        "\n",
        "def out_std(df, column):\n",
        "    global lower,upper\n",
        "    # calculate the mean and standard deviation of the data frame\n",
        "    data_mean, data_std = df[column].mean(), df[column].std()\n",
        "    # calculate the cutoff value\n",
        "    cut_off = data_std * 3\n",
        "    # calculate the lower and upper bound value\n",
        "    lower, upper = data_mean - cut_off, data_mean + cut_off\n",
        "    print('The lower bound value is: {0}'.format(lower))\n",
        "    print('The upper bound value is: {0}\\n'.format(upper))\n",
        "    # Calculate the number of records below and above lower and above bound value respectively\n",
        "    df1 = df[df[column] > upper]\n",
        "    df2 = df[df[column] < lower]\n",
        "    return print('Total number of outliers are: {0} \\n'.format(df1.shape[0]+ df2.shape[0]))\n",
        "\n",
        "out_std(data, var_name)\n",
        "\n",
        "_, axes = plt.subplots(1,2,figsize = (8,4))\n",
        "sns.distplot(data[var_name], ax=axes[0])\n",
        "\n",
        "sns.distplot(data[var_name], kde=True, ax=axes[1])\n",
        "plt.axvspan(xmin = lower,xmax= data[var_name].min(),alpha=0.2, color='red')\n",
        "plt.axvspan(xmin = upper,xmax= data[var_name].max(),alpha=0.2, color='red')"
      ],
      "metadata": {
        "cellView": "form",
        "id": "PuC90t917OnN"
      },
      "execution_count": null,
      "outputs": []
    },
    {
      "cell_type": "code",
      "source": [
        "# @markdown ### Z-Score\n",
        "\n",
        "var_name = \"chol\" # @param {type:\"string\"}\n",
        "threshold = 3.0 # @param {type:\"number\"}\n",
        "\n",
        "def out_zscore(data, threshold):\n",
        "    global outliers,zscore\n",
        "    outliers = []\n",
        "    zscore = []\n",
        "    # threshold = 3\n",
        "    mean = np.mean(data)\n",
        "    std = np.std(data)\n",
        "    for i in data:\n",
        "        z_score= (i - mean)/std\n",
        "        zscore.append(z_score)\n",
        "        if np.abs(z_score) > threshold:\n",
        "            outliers.append(i)\n",
        "    return print(\"Total number of outliers are\",len(outliers))\n",
        "\n",
        "out_zscore(data[var_name], threshold)\n",
        "\n",
        "_, axes = plt.subplots(1,2,figsize = (8,4))\n",
        "sns.distplot(data[var_name], ax=axes[0])\n",
        "\n",
        "sns.distplot(zscore, kde=True, ax=axes[1])\n",
        "plt.axvspan(xmin = threshold ,xmax= max(zscore),alpha=0.2, color='red')"
      ],
      "metadata": {
        "cellView": "form",
        "id": "7FjHKBiM8C-3"
      },
      "execution_count": null,
      "outputs": []
    },
    {
      "cell_type": "code",
      "source": [
        "from sklearn.cluster import DBSCAN\n",
        "from sklearn.preprocessing import StandardScaler\n",
        "\n",
        "# @markdown ### DBSCAN (KMeans)\n",
        "\n",
        "var1_name = \"chol\" # @param {type:\"string\"}\n",
        "var2_name = \"age\" # @param {type:\"string\"}\n",
        "var3_name = \"\" # @param {type:\"string\"}\n",
        "eps = 20.0 # @param {type:\"number\"}\n",
        "\n",
        "\n",
        "list_var = []\n",
        "\n",
        "for var_name in [var1_name, var2_name, var3_name]:\n",
        "  if var_name != \"\":\n",
        "    list_var.append(var_name)\n",
        "\n",
        "X = data[list_var].values\n",
        "\n",
        "# X = StandardScaler().fit_transform(X)\n",
        "\n",
        "db = DBSCAN(eps=eps, min_samples=10).fit(X)\n",
        "labels = db.labels_\n",
        "\n",
        "pd.Series(labels).value_counts()\n",
        "\n",
        "plt.figure(figsize=(12,12))\n",
        "\n",
        "unique_labels = set(labels)\n",
        "colors = ['blue', 'red']\n",
        "\n",
        "_, ax = plt.subplots(figsize = (5,4))\n",
        "\n",
        "for color,label in zip(colors, unique_labels):\n",
        "    sample_mask = [True if l == label else False for l in labels]\n",
        "    ax.plot(X[:,0][sample_mask], X[:, 1][sample_mask], 'o', color=color);\n",
        "\n",
        "plt.xlabel(var1_name);\n",
        "plt.ylabel(var2_name);"
      ],
      "metadata": {
        "cellView": "form",
        "id": "Hmf2Z6kX7hQ5"
      },
      "execution_count": null,
      "outputs": []
    }
  ]
}