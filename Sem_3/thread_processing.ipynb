{
  "cells": [
    {
      "cell_type": "code",
      "execution_count": 1,
      "metadata": {
        "id": "MTdoUy7mM9kE"
      },
      "outputs": [],
      "source": [
        "import threading # Library for threads"
      ]
    },
    {
      "cell_type": "markdown",
      "metadata": {
        "id": "vBwu2xfgkyJC"
      },
      "source": [
        "## **Single thread**"
      ]
    },
    {
      "cell_type": "code",
      "execution_count": null,
      "metadata": {
        "id": "Xu_xaHO0NQFb"
      },
      "outputs": [],
      "source": [
        "# create a thread class\n",
        "class thread(threading.Thread):\n",
        "    def __init__(self, num):\n",
        "      #\n",
        "      super().__init__()\n",
        "      self.num= num\n",
        "\n",
        "    # This method runs when start\n",
        "    def run(self):\n",
        "        _\n"
      ]
    },
    {
      "cell_type": "code",
      "execution_count": null,
      "metadata": {
        "id": "7-yODJGckw1s"
      },
      "outputs": [],
      "source": [
        "print (\"I'm the main thread\")\n",
        "\n",
        "for i in range(0,3):\n",
        "    t = _\n",
        "    t.start()\n",
        "    t.join() # wait until all threads have finished"
      ]
    },
    {
      "cell_type": "markdown",
      "metadata": {
        "id": "hk79v6vik3SS"
      },
      "source": [
        "## **Multi-thread**"
      ]
    },
    {
      "cell_type": "code",
      "execution_count": null,
      "metadata": {
        "id": "5ZM1W0a6N2KX"
      },
      "outputs": [],
      "source": [
        "# Create a thread class\n",
        "class thread_1(threading.Thread):\n",
        "    def __init__(self):\n",
        "        super().__init__()\n",
        "        self.num_list = _\n",
        "\n",
        "    def run(self):\n",
        "        print ( _ )\n",
        "        for i in _ :\n",
        "            print(self.num_list[i])\n",
        "\n",
        "class thread_2(threading.Thread):\n",
        "    def __init__(self):\n",
        "        super().__init__();\n",
        "        self.char_list = _\n",
        "\n",
        "    def run(self):\n",
        "        print ( _ )\n",
        "        for i in _ :\n",
        "            print(self.char_list[i])"
      ]
    },
    {
      "cell_type": "code",
      "execution_count": null,
      "metadata": {
        "id": "lAbY6wwbk9NS"
      },
      "outputs": [],
      "source": [
        "h1 = thread_1();\n",
        "h2 = thread_2();\n",
        "\n",
        "h1.start();\n",
        "h2.start();\n",
        "\n",
        "h1.join();\n",
        "h2.join();"
      ]
    }
  ],
  "metadata": {
    "colab": {
      "provenance": []
    },
    "kernelspec": {
      "display_name": "Python 3",
      "name": "python3"
    },
    "language_info": {
      "name": "python"
    }
  },
  "nbformat": 4,
  "nbformat_minor": 0
}
