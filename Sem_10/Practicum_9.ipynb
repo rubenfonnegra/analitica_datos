{
  "cells": [
    {
      "cell_type": "markdown",
      "metadata": {
        "id": "JC-IJfoeK7hD"
      },
      "source": [
        "# **🗃️ Data Loading**"
      ]
    },
    {
      "cell_type": "markdown",
      "metadata": {
        "id": "48nV7VxI52d0"
      },
      "source": [
        "Useful dataset:\n",
        "- [Toyota Cars](https://drive.google.com/file/d/1mPrg8J272y9EOOE0GdGjybDCOUmj9Wf6/view?usp=sharing)\n",
        "- [Houses in Iowa](https://www.kaggle.com/competitions/house-prices-advanced-regression-techniques/data?select=train.csv)"
      ]
    },
    {
      "cell_type": "code",
      "execution_count": null,
      "metadata": {
        "id": "XkpAlb6wrAkQ"
      },
      "outputs": [],
      "source": [
        "import numpy as np\n",
        "import matplotlib.pyplot as plt\n",
        "import pandas as pd\n",
        "import seaborn as sns\n",
        "\n",
        "from sklearn.preprocessing import StandardScaler\n",
        "from scipy.stats import probplot, norm\n",
        "\n",
        "import warnings\n",
        "warnings.filterwarnings('ignore')"
      ]
    },
    {
      "cell_type": "markdown",
      "metadata": {
        "id": "GoGctqOGr9cx"
      },
      "source": [
        "## Load data and take a small look"
      ]
    },
    {
      "cell_type": "code",
      "execution_count": null,
      "metadata": {
        "colab": {
          "base_uri": "https://localhost:8080/",
          "height": 827
        },
        "id": "wd3mgb5Brc23",
        "outputId": "752a5788-e887-4040-e10f-f951fd82f59b"
      },
      "outputs": [],
      "source": [
        "data = pd.read_csv('/content/ToyotaCorolla1.csv')\n",
        "\n",
        "print (data.columns)\n",
        "data.head()"
      ]
    },
    {
      "cell_type": "code",
      "execution_count": null,
      "metadata": {
        "colab": {
          "base_uri": "https://localhost:8080/"
        },
        "id": "1y_Sx2J6roLh",
        "outputId": "2c7cdf79-7671-4ddd-aa8a-8ebc69a9f6ec"
      },
      "outputs": [],
      "source": [
        "# Print information about data variables\n",
        "_ "
      ]
    },
    {
      "cell_type": "code",
      "execution_count": null,
      "metadata": {
        "colab": {
          "base_uri": "https://localhost:8080/",
          "height": 484
        },
        "id": "TYn8yw6Jru0k",
        "outputId": "3c62e8be-a702-4305-d313-23d5abb65698"
      },
      "outputs": [],
      "source": [
        "# Show descriptive stats about the dataset\n",
        "_\n",
        "\n",
        "_, ax = plt.subplots(figsize=(4,3))\n",
        "sns.histplot(data, x=\"Price\", kde=True, ax=ax)"
      ]
    },
    {
      "cell_type": "code",
      "execution_count": null,
      "metadata": {
        "id": "vlWAvZ_VjNVU"
      },
      "outputs": [],
      "source": [
        "model2key = {}\n",
        "\n",
        "for i, key in enumerate(np.unique(data.Model)): model2key [key] = i\n",
        "key2model = dict(zip(model2key.values(), model2key.keys()))\n",
        "\n",
        "data['Model'] = data['Model'].map(model2key)"
      ]
    },
    {
      "cell_type": "code",
      "execution_count": null,
      "metadata": {
        "id": "UZJ16Rl3mUk7"
      },
      "outputs": [],
      "source": [
        "fuel2key = {}\n",
        "\n",
        "for i, key in enumerate(np.unique(data.Fuel_Type)): fuel2key [key] = i\n",
        "key2fuel = dict(zip(fuel2key.values(), fuel2key.keys()))\n",
        "\n",
        "data['Fuel_Type'] = data['Fuel_Type'].map(fuel2key)"
      ]
    },
    {
      "cell_type": "code",
      "execution_count": null,
      "metadata": {
        "id": "_m3QR7gqmvV3"
      },
      "outputs": [],
      "source": [
        "color2key = {}\n",
        "\n",
        "for i, key in enumerate(np.unique(data.Color)): color2key [key] = i\n",
        "key2color = dict(zip(color2key.values(), color2key.keys()))\n",
        "\n",
        "data['Color'] = data['Color'].map(color2key)"
      ]
    },
    {
      "cell_type": "code",
      "execution_count": null,
      "metadata": {
        "colab": {
          "base_uri": "https://localhost:8080/",
          "height": 968
        },
        "id": "_JKklw3IbZdA",
        "outputId": "c086c53e-a71a-46ce-86de-2dd807837122"
      },
      "outputs": [],
      "source": [
        "# Correlaation plot\n",
        "corr = _\n",
        "_, ax = plt.subplots(figsize=(10,10))\n",
        "_ "
      ]
    },
    {
      "cell_type": "code",
      "execution_count": null,
      "metadata": {
        "colab": {
          "base_uri": "https://localhost:8080/",
          "height": 392
        },
        "id": "G4HjzE4wsOuG",
        "outputId": "058a963c-1904-4995-d32d-b8fc4e31ffe3"
      },
      "outputs": [],
      "source": [
        "_, ax = plt.subplots(figsize=(10,4))\n",
        "sns.boxplot(data, x='Age_08_04', y='Price', ax=ax)\n",
        "_ = plt.xticks(rotation = 90)"
      ]
    },
    {
      "cell_type": "code",
      "execution_count": null,
      "metadata": {
        "colab": {
          "base_uri": "https://localhost:8080/",
          "height": 405
        },
        "id": "kq5wsAz4ot1c",
        "outputId": "58912380-25ce-4d7e-f1ae-9eb006d90e3c"
      },
      "outputs": [],
      "source": [
        "# Plot categorical values\n",
        "_, ax = plt.subplots(figsize=(6,4))\n",
        "_"
      ]
    },
    {
      "cell_type": "code",
      "execution_count": null,
      "metadata": {
        "colab": {
          "base_uri": "https://localhost:8080/",
          "height": 482
        },
        "id": "6HHNFm-igGj-",
        "outputId": "9593f66a-4285-47bc-fb97-2258792b0e04"
      },
      "outputs": [],
      "source": [
        "# Plot continous values\n",
        "_, ax = plt.subplots(figsize=(6,5))\n",
        "_"
      ]
    },
    {
      "cell_type": "markdown",
      "metadata": {
        "id": "iLPTFOpGr3wk"
      },
      "source": [
        "## Data Cleansing"
      ]
    },
    {
      "cell_type": "code",
      "execution_count": null,
      "metadata": {
        "id": "WLEwNiemiVDN"
      },
      "outputs": [],
      "source": [
        "# Missing data"
      ]
    },
    {
      "cell_type": "code",
      "execution_count": null,
      "metadata": {
        "id": "-Qlwa5EAr3Re"
      },
      "outputs": [],
      "source": [
        "num_missing = data.isnull().sum().sort_values(ascending=False)   # Compute columns with more than 15% missing data\n",
        "missing_percentage = (data.isnull().sum() / data.isnull().count()).sort_values(ascending=False)\n",
        "num_missing.head(20)\n",
        "\n",
        "missing = pd.concat([ num_missing , missing_percentage ], axis = 1, keys=['Total', 'Percentage'])\n",
        "missing.head(20)"
      ]
    },
    {
      "cell_type": "code",
      "execution_count": null,
      "metadata": {},
      "outputs": [],
      "source": [
        "data_cl = data.drop(missing[missing['Percentage'] > 0.10].index.tolist(), axis=1)\n",
        "data_cl.isnull().sum().sort_values(ascending=False).head(20)"
      ]
    },
    {
      "cell_type": "code",
      "execution_count": null,
      "metadata": {
        "colab": {
          "base_uri": "https://localhost:8080/"
        },
        "id": "OGsqpSgEteeB",
        "outputId": "e907aa48-c6a0-4569-cef6-e85e87c4d602"
      },
      "outputs": [],
      "source": [
        "drop_columns = missing[ missing['Percentage']>0.15 ] # List columns with those values\n",
        "print(drop_columns)"
      ]
    },
    {
      "cell_type": "markdown",
      "metadata": {
        "id": "bJFRcNlZ6szP"
      },
      "source": [
        "## Outliers"
      ]
    },
    {
      "cell_type": "code",
      "execution_count": null,
      "metadata": {
        "id": "9hnFYtPS70kW"
      },
      "outputs": [],
      "source": [
        "data.columns"
      ]
    },
    {
      "cell_type": "code",
      "execution_count": null,
      "metadata": {
        "id": "c2eHrVA-6u8e"
      },
      "outputs": [],
      "source": [
        "scaled_data = StandardScaler().fit_transform(data['Price'].values.reshape(-1,1))\n",
        "\n",
        "# 10 outliners - we dont have that many\n",
        "lower_bound = scaled_data[scaled_data[:, 0].argsort()][:1]\n",
        "upper_bound = scaled_data[scaled_data[:, 0].argsort()][-20:]\n",
        "print(lower_bound, upper_bound)"
      ]
    },
    {
      "cell_type": "code",
      "execution_count": null,
      "metadata": {
        "colab": {
          "base_uri": "https://localhost:8080/",
          "height": 466
        },
        "id": "Jx1t92-b94U8",
        "outputId": "03899387-97f0-4a8c-ef7b-51a7606b3ecc"
      },
      "outputs": [],
      "source": [
        "sns.histplot(data, x= 'Price', kde=True, bins=len(np.arange(0,len(data),10)))"
      ]
    },
    {
      "cell_type": "markdown",
      "metadata": {
        "id": "HP-iIOD36jyY"
      },
      "source": [
        "## Normality test"
      ]
    },
    {
      "cell_type": "code",
      "execution_count": null,
      "metadata": {
        "colab": {
          "base_uri": "https://localhost:8080/"
        },
        "id": "wWgYOCw_Lo7o",
        "outputId": "f669cb56-26e0-4e5f-84ac-f83ae1d1c9e5"
      },
      "outputs": [],
      "source": [
        "data.info()\n",
        "data_cl = data.select_dtypes(include = ['float64', 'int64']) #Convert values to numbers\n",
        "data_cl.info()"
      ]
    },
    {
      "cell_type": "code",
      "execution_count": null,
      "metadata": {
        "colab": {
          "base_uri": "https://localhost:8080/",
          "height": 904
        },
        "id": "H6uBXMZK6jjD",
        "outputId": "b933810a-15fc-4b83-9fa9-33bcf860f482"
      },
      "outputs": [],
      "source": [
        "sns.distplot(data_cl['Price'], fit = norm)\n",
        "fig = plt.figure()\n",
        "res = probplot(data_cl['Price'],  plot = plt)"
      ]
    },
    {
      "cell_type": "code",
      "execution_count": null,
      "metadata": {
        "colab": {
          "base_uri": "https://localhost:8080/",
          "height": 920
        },
        "id": "HgexoBuiL7gJ",
        "outputId": "10f4efe8-090f-4ffc-e17b-ace4f27f6b72"
      },
      "outputs": [],
      "source": [
        "sns.distplot(data_cl['KM'], fit = norm)\n",
        "fig = plt.figure()\n",
        "res = probplot(data_cl['KM'], plot = plt)"
      ]
    },
    {
      "cell_type": "code",
      "execution_count": null,
      "metadata": {
        "_cell_guid": "cced5b14-c39d-c847-6dc9-93af3f4b6e6d",
        "_execution_state": "idle",
        "_uuid": "f578838e98e9996b09abbec058200cb18aa38869",
        "id": "01u6nN24om_2"
      },
      "outputs": [],
      "source": [
        "# Transformación de los datos:\n",
        "data_cl_tf = data_cl.copy()\n",
        "\n",
        "for col in data_cl.columns.tolist():\n",
        "  data_cl_tf[col].loc[data_cl_tf[col] != 0] = np.log(data_cl[col].loc[data_cl[col] != 0]) # Normalize"
      ]
    },
    {
      "cell_type": "code",
      "execution_count": null,
      "metadata": {
        "_cell_guid": "0e17fba2-3ff2-d6f1-841d-bc2a9746bcc2",
        "_execution_state": "idle",
        "_uuid": "de8366b3ad71c7cb398644766a412bee1d05642f",
        "colab": {
          "base_uri": "https://localhost:8080/",
          "height": 904
        },
        "id": "zv1do26aom_8",
        "outputId": "0edaf20c-ef25-459e-fbfd-a14998f325f4"
      },
      "outputs": [],
      "source": [
        "# Histograma y gráfico de probabilidad normal sobre los datos transformados:\n",
        "\n",
        "sns.distplot(data_cl_tf['Price'], fit = norm)\n",
        "fig = plt.figure()\n",
        "res = probplot(data_cl_tf['Price'] , plot = plt)"
      ]
    },
    {
      "cell_type": "code",
      "execution_count": null,
      "metadata": {
        "colab": {
          "base_uri": "https://localhost:8080/",
          "height": 904
        },
        "id": "R7US9Z14sCaJ",
        "outputId": "4d90c990-14cd-4acd-97e0-ae870487051b"
      },
      "outputs": [],
      "source": [
        "sns.distplot(data_cl_tf['KM'], fit = norm)\n",
        "fig = plt.figure()\n",
        "res = probplot(data_cl_tf['KM'], plot = plt)"
      ]
    },
    {
      "cell_type": "code",
      "execution_count": null,
      "metadata": {
        "colab": {
          "base_uri": "https://localhost:8080/",
          "height": 255
        },
        "id": "PT1kibpvsfVc",
        "outputId": "4ce33c5a-96dd-48fa-aec4-691cec5f619f"
      },
      "outputs": [],
      "source": [
        "data_cl_tf.head()"
      ]
    },
    {
      "cell_type": "code",
      "execution_count": null,
      "metadata": {
        "colab": {
          "base_uri": "https://localhost:8080/",
          "height": 982
        },
        "id": "HnS6b5iOviMf",
        "outputId": "a91535d0-68d3-4325-9a90-db10c67f95b5"
      },
      "outputs": [],
      "source": [
        "sns.pairplot(data_cl_tf.iloc[:, :6], corner=True)"
      ]
    },
    {
      "cell_type": "code",
      "execution_count": null,
      "metadata": {
        "id": "FT8AMIWcuBPp"
      },
      "outputs": [],
      "source": [
        "# data_cl_tf.to_csv(\"ToyotaCorolla_Curated.csv\", index=False)"
      ]
    },
    {
      "cell_type": "markdown",
      "metadata": {
        "id": "MvRbi56sC3UZ"
      },
      "source": [
        "## Data Modeling"
      ]
    },
    {
      "cell_type": "markdown",
      "metadata": {
        "id": "peJdkM3vyHhi"
      },
      "source": [
        "### First product - Price prediction"
      ]
    },
    {
      "cell_type": "code",
      "execution_count": null,
      "metadata": {
        "id": "_Y9eTe0RAF4m"
      },
      "outputs": [],
      "source": [
        "from sklearn.linear_model import LinearRegression\n",
        "from sklearn.ensemble import GradientBoostingRegressor\n",
        "\n",
        "from sklearn.model_selection import train_test_split\n",
        "from sklearn.metrics import mean_squared_error as mse"
      ]
    },
    {
      "cell_type": "code",
      "execution_count": null,
      "metadata": {
        "colab": {
          "base_uri": "https://localhost:8080/"
        },
        "id": "IUSoEqDquqYq",
        "outputId": "bdd65694-529b-4c8f-a0fd-059a5bdac60c"
      },
      "outputs": [],
      "source": [
        "data_cl_tf.columns"
      ]
    },
    {
      "cell_type": "code",
      "execution_count": null,
      "metadata": {
        "colab": {
          "base_uri": "https://localhost:8080/"
        },
        "id": "SLSlHa0lMArR",
        "outputId": "b2887c52-22ee-4dd6-efbc-08fdadab7229"
      },
      "outputs": [],
      "source": [
        "# X = np.array( data_cl_tf.iloc[:, :-1] )\n",
        "# y = np.array( data_cl_tf.iloc[:, -1] )\n",
        "\n",
        "X = np.array( _ )\n",
        "y = np.array( _ )\n",
        "\n",
        "print(X.shape, y.shape)"
      ]
    },
    {
      "cell_type": "code",
      "execution_count": null,
      "metadata": {
        "colab": {
          "base_uri": "https://localhost:8080/"
        },
        "id": "AUjvDs-CDGpR",
        "outputId": "ebe90858-4f4d-4b18-fa50-edf23864698a"
      },
      "outputs": [],
      "source": [
        "X_train, X_test, y_train, y_test = _ \n",
        "\n",
        "print ( X_train.shape, X_test.shape, y_train.shape, y_test.shape )"
      ]
    },
    {
      "cell_type": "code",
      "execution_count": null,
      "metadata": {
        "colab": {
          "base_uri": "https://localhost:8080/",
          "height": 74
        },
        "id": "ohF8WFceD-oK",
        "outputId": "1e1b35cc-afed-4f37-b6c0-57e5d321c8ea"
      },
      "outputs": [],
      "source": [
        "gbr = GradientBoostingRegressor(n_estimators=100)\n",
        "\n",
        "# Train\n",
        "_"
      ]
    },
    {
      "cell_type": "code",
      "execution_count": null,
      "metadata": {
        "colab": {
          "base_uri": "https://localhost:8080/"
        },
        "id": "f7AXJK33EXKC",
        "outputId": "103a3dd1-6806-4e37-9ee5-96b332f5cc3e"
      },
      "outputs": [],
      "source": [
        "# Predictions\n",
        "_\n",
        "\n",
        "# Metrics\n",
        "mse_score = _\n",
        "\n",
        "print (\"MSE: {0:.5f}\".format(mse_score))"
      ]
    },
    {
      "cell_type": "code",
      "execution_count": null,
      "metadata": {
        "colab": {
          "base_uri": "https://localhost:8080/",
          "height": 462
        },
        "id": "-GKkmcg2E1rB",
        "outputId": "c27f5d08-1252-4e37-d3a0-2539da154766"
      },
      "outputs": [],
      "source": [
        "_, ax = plt.subplots(figsize=(6,5))\n",
        "var_idx = 1\n",
        "name_var = data_cl_tf.columns[var_idx]\n",
        "\n",
        "ax.scatter(X_test[:, var_idx], y_test, facecolors=\"none\", edgecolors='k')\n",
        "ax.scatter(X_test[:, var_idx], predictions, c='b', alpha=0.5, edgecolors='k')"
      ]
    },
    {
      "cell_type": "code",
      "execution_count": null,
      "metadata": {
        "colab": {
          "base_uri": "https://localhost:8080/",
          "height": 74
        },
        "id": "U5jAKTiWGi9z",
        "outputId": "d67ecbe0-ad30-4fc6-96cc-d659aa5b1efe"
      },
      "outputs": [],
      "source": [
        "lrm = LinearRegression()\n",
        "lrm.fit (X_train, y_train)"
      ]
    },
    {
      "cell_type": "code",
      "execution_count": null,
      "metadata": {
        "colab": {
          "base_uri": "https://localhost:8080/"
        },
        "id": "GsAUltfmGi90",
        "outputId": "8b041e7d-bb7c-41e6-f554-896a4dc9494e"
      },
      "outputs": [],
      "source": [
        "predictions = lrm.predict(X_test)\n",
        "mse_score = mse(y_test, predictions)\n",
        "\n",
        "print (\"MSE: {0:.5f}\".format(mse_score))"
      ]
    },
    {
      "cell_type": "code",
      "execution_count": null,
      "metadata": {
        "colab": {
          "base_uri": "https://localhost:8080/",
          "height": 462
        },
        "id": "mKPoBI87Gi90",
        "outputId": "73f54b28-3b32-444d-a363-ad564ab5da81"
      },
      "outputs": [],
      "source": [
        "_, ax = plt.subplots(figsize=(6,5))\n",
        "var_idx = 0\n",
        "name_var = data_cl_tf.columns[var_idx]\n",
        "\n",
        "ax.scatter(X_test[:, var_idx], y_test, facecolors=\"none\", edgecolors='k')\n",
        "ax.scatter(X_test[:, var_idx], predictions, c='b', alpha=0.5, edgecolors='k')"
      ]
    }
  ],
  "metadata": {
    "colab": {
      "provenance": []
    },
    "kernelspec": {
      "display_name": "Python 3",
      "name": "python3"
    },
    "language_info": {
      "name": "python"
    }
  },
  "nbformat": 4,
  "nbformat_minor": 0
}
