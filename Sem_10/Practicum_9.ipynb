{
  "nbformat": 4,
  "nbformat_minor": 0,
  "metadata": {
    "colab": {
      "provenance": []
    },
    "kernelspec": {
      "name": "python3",
      "display_name": "Python 3"
    },
    "language_info": {
      "name": "python"
    }
  },
  "cells": [
    {
      "cell_type": "markdown",
      "source": [
        "# **🗃️ Data Loading**"
      ],
      "metadata": {
        "id": "JC-IJfoeK7hD"
      }
    },
    {
      "cell_type": "markdown",
      "source": [
        "Useful dataset:\n",
        "- [Fruits dataset](https://drive.google.com/file/d/1Jn15Qra1NldKC6ELVTTFWrqZ5OJdK5pL/view?usp=sharing)\n",
        "- [House regression](https://www.kaggle.com/competitions/house-prices-advanced-regression-techniques/data?select=train.csv)"
      ],
      "metadata": {
        "id": "48nV7VxI52d0"
      }
    },
    {
      "cell_type": "code",
      "source": [
        "import numpy as np\n",
        "import matplotlib.pyplot as plt\n",
        "import pandas as pd\n",
        "import seaborn as sns\n",
        "\n",
        "from sklearn.preprocessing import StandardScaler\n",
        "from scipy.stats import probplot, norm"
      ],
      "metadata": {
        "id": "XkpAlb6wrAkQ"
      },
      "execution_count": null,
      "outputs": []
    },
    {
      "cell_type": "markdown",
      "source": [
        "## Load data and take a small look"
      ],
      "metadata": {
        "id": "GoGctqOGr9cx"
      }
    },
    {
      "cell_type": "code",
      "source": [
        "data = pd.read_csv('train.csv')\n",
        "\n",
        "print (data.columns)\n",
        "data.head()"
      ],
      "metadata": {
        "id": "wd3mgb5Brc23"
      },
      "execution_count": null,
      "outputs": []
    },
    {
      "cell_type": "code",
      "source": [
        "# Print information about data variables\n",
        "_"
      ],
      "metadata": {
        "id": "1y_Sx2J6roLh"
      },
      "execution_count": null,
      "outputs": []
    },
    {
      "cell_type": "code",
      "source": [
        "# Show descriptive stats about the dataset\n",
        "_"
      ],
      "metadata": {
        "id": "TYn8yw6Jru0k"
      },
      "execution_count": null,
      "outputs": []
    },
    {
      "cell_type": "code",
      "source": [
        "# sns.scatterplot( _ )\n",
        "# sns.boxplot( _ )"
      ],
      "metadata": {
        "id": "G4HjzE4wsOuG"
      },
      "execution_count": null,
      "outputs": []
    },
    {
      "cell_type": "markdown",
      "source": [
        "## Data Cleansing"
      ],
      "metadata": {
        "id": "iLPTFOpGr3wk"
      }
    },
    {
      "cell_type": "code",
      "source": [
        "num_missing = _   # Compute columns with more than 15% missing data\n",
        "missing_percentage = (data.isnull().sum() / data.isnull().count()).sort_values(ascending=False)\n",
        "num_missing.head(20)\n",
        "\n",
        "missing = pd.concat([ _ , _ ], axis = 1, keys=['Total', 'Percentage'])"
      ],
      "metadata": {
        "id": "-Qlwa5EAr3Re"
      },
      "execution_count": null,
      "outputs": []
    },
    {
      "cell_type": "code",
      "source": [
        "drop_columns = missing[ _ ] # List columns with those values\n",
        "print(drop_columns)"
      ],
      "metadata": {
        "id": "OGsqpSgEteeB"
      },
      "execution_count": null,
      "outputs": []
    },
    {
      "cell_type": "code",
      "source": [
        "data_cl = data.drop(data[(missing[ missing['Percentage']>0.15 ]).index],1 )  # Drop columns\n",
        "\n",
        "# Show remaining missing\n",
        "data_cl.isnull().sum().sort_values(ascending=False).head(20)"
      ],
      "metadata": {
        "id": "l4Abh9yQ2SWY"
      },
      "execution_count": null,
      "outputs": []
    },
    {
      "cell_type": "code",
      "source": [
        "for col in data_cl.isnull().sum().sort_values(ascending=False).keys().tolist(): # Drop missing values\n",
        "  data_cl = data_cl.drop(data_cl.loc[data_cl[col].isnull()].index)\n",
        "  print(col)\n"
      ],
      "metadata": {
        "id": "0IQsNFiy4fDb"
      },
      "execution_count": null,
      "outputs": []
    },
    {
      "cell_type": "code",
      "source": [
        "# Vefiry missing values\n",
        "data_cl.isnull().sum().sort_values(ascending=False).min()\n",
        "print (len(data_cl))"
      ],
      "metadata": {
        "id": "-nHSTdGBLXc4"
      },
      "execution_count": null,
      "outputs": []
    },
    {
      "cell_type": "markdown",
      "source": [
        "## Outliers"
      ],
      "metadata": {
        "id": "bJFRcNlZ6szP"
      }
    },
    {
      "cell_type": "code",
      "source": [
        "data_cl.columns"
      ],
      "metadata": {
        "id": "9hnFYtPS70kW"
      },
      "execution_count": null,
      "outputs": []
    },
    {
      "cell_type": "code",
      "source": [
        "scaled_data_cl = StandardScaler().fit_transform(data_cl['SalePrice'].values.reshape(-1,1))\n",
        "\n",
        "# 10 outliners - we dont have that many\n",
        "lower_bound = scaled_data_cl[scaled_data_cl[:, 0].argsort()][:10]\n",
        "upper_bound = scaled_data_cl[scaled_data_cl[:, 0].argsort()][-10:]\n",
        "print(lower_bound, upper_bound)"
      ],
      "metadata": {
        "id": "c2eHrVA-6u8e"
      },
      "execution_count": null,
      "outputs": []
    },
    {
      "cell_type": "code",
      "source": [
        "sns.histplot(data_cl, x= 'SalePrice', kde=True, bins=len(np.arange(0,len(data_cl),10)))"
      ],
      "metadata": {
        "id": "Jx1t92-b94U8"
      },
      "execution_count": null,
      "outputs": []
    },
    {
      "cell_type": "markdown",
      "source": [
        "## Normality test"
      ],
      "metadata": {
        "id": "HP-iIOD36jyY"
      }
    },
    {
      "cell_type": "code",
      "source": [
        "data_cl.info()\n",
        "data_cl = data_cl.select_dtypes(include = ['float64', 'int64']) #Convert values to numbers\n",
        "data_cl.info()"
      ],
      "metadata": {
        "id": "wWgYOCw_Lo7o"
      },
      "execution_count": null,
      "outputs": []
    },
    {
      "cell_type": "code",
      "source": [
        "sns.distplot(data_cl['SalePrice'], fit = norm);\n",
        "fig = plt.figure()\n",
        "res = probplot(_,  plot = plt)"
      ],
      "metadata": {
        "id": "H6uBXMZK6jjD"
      },
      "execution_count": null,
      "outputs": []
    },
    {
      "cell_type": "code",
      "source": [
        "sns.distplot(data_cl['TotalBsmtSF'], fit = norm);\n",
        "fig = plt.figure()\n",
        "res = probplot(data_cl['TotalBsmtSF'], plot = plt)"
      ],
      "metadata": {
        "id": "HgexoBuiL7gJ"
      },
      "execution_count": null,
      "outputs": []
    },
    {
      "cell_type": "code",
      "metadata": {
        "_cell_guid": "cced5b14-c39d-c847-6dc9-93af3f4b6e6d",
        "_execution_state": "idle",
        "_uuid": "f578838e98e9996b09abbec058200cb18aa38869",
        "id": "01u6nN24om_2"
      },
      "source": [
        "# Transformación de los datos:\n",
        "data_cl_tf = data_cl.copy()\n",
        "\n",
        "for col in data_cl.columns.tolist():\n",
        "  data_cl_tf[col].loc[data_cl_tf[col] != 0] = np.log(data_cl[col].loc[data_cl[col] != 0]) # Normalize"
      ],
      "execution_count": null,
      "outputs": []
    },
    {
      "cell_type": "code",
      "metadata": {
        "_cell_guid": "0e17fba2-3ff2-d6f1-841d-bc2a9746bcc2",
        "_execution_state": "idle",
        "_uuid": "de8366b3ad71c7cb398644766a412bee1d05642f",
        "id": "zv1do26aom_8"
      },
      "source": [
        "# Histograma y gráfico de probabilidad normal sobre los datos transformados:\n",
        "\n",
        "sns.distplot(data_cl_tf['SalePrice'], fit = norm);\n",
        "fig = plt.figure()\n",
        "res = probplot(data_cl_tf['SalePrice'] , plot = plt)"
      ],
      "execution_count": null,
      "outputs": []
    },
    {
      "cell_type": "code",
      "source": [
        "sns.distplot(data_cl_tf['TotalBsmtSF'], fit = norm);\n",
        "fig = plt.figure()\n",
        "res = probplot(data_cl_tf['TotalBsmtSF'], plot = plt)"
      ],
      "metadata": {
        "id": "R7US9Z14sCaJ"
      },
      "execution_count": null,
      "outputs": []
    },
    {
      "cell_type": "code",
      "source": [
        "data_cl_tf.head()"
      ],
      "metadata": {
        "id": "PT1kibpvsfVc"
      },
      "execution_count": null,
      "outputs": []
    },
    {
      "cell_type": "code",
      "source": [
        "sns.pairplot(data_cl_tf, corner=True)"
      ],
      "metadata": {
        "id": "HnS6b5iOviMf"
      },
      "execution_count": null,
      "outputs": []
    },
    {
      "cell_type": "code",
      "source": [
        "data_cl_tf = data_cl_tf.drop(['Id'], axis=1)"
      ],
      "metadata": {
        "id": "X8qdC4XqwKGY"
      },
      "execution_count": null,
      "outputs": []
    },
    {
      "cell_type": "markdown",
      "source": [
        "## Data Modeling"
      ],
      "metadata": {
        "id": "MvRbi56sC3UZ"
      }
    },
    {
      "cell_type": "markdown",
      "source": [
        "### First product - Sale price prediction"
      ],
      "metadata": {
        "id": "peJdkM3vyHhi"
      }
    },
    {
      "cell_type": "code",
      "source": [
        "from sklearn.linear_model import LinearRegression\n",
        "from sklearn.ensemble import GradientBoostingRegressor\n",
        "from sklearn.model_selection import train_test_split\n",
        "from sklearn.metrics import mean_squared_error as mse"
      ],
      "metadata": {
        "id": "_Y9eTe0RAF4m"
      },
      "execution_count": null,
      "outputs": []
    },
    {
      "cell_type": "code",
      "source": [
        "X = np.array( _ )\n",
        "y = np.array( _ )\n",
        "\n",
        "print(X.shape, y.shape)"
      ],
      "metadata": {
        "id": "SLSlHa0lMArR"
      },
      "execution_count": null,
      "outputs": []
    },
    {
      "cell_type": "code",
      "source": [
        "X_train, X_test, y_train, y_test = train_test_split(X, y, test_size=0.2, random_state = 1)\n",
        "\n",
        "print ( _ )"
      ],
      "metadata": {
        "id": "AUjvDs-CDGpR"
      },
      "execution_count": null,
      "outputs": []
    },
    {
      "cell_type": "code",
      "source": [
        "gbr = GradientBoostingRegressor(n_estimators=100)\n",
        "gbr.fit (X_train, y_train)"
      ],
      "metadata": {
        "id": "ohF8WFceD-oK"
      },
      "execution_count": null,
      "outputs": []
    },
    {
      "cell_type": "code",
      "source": [
        "predictions = gbr.predict( _ )\n",
        "mse_score = mse(y_test, predictions)\n",
        "\n",
        "print (\"MSE: {0:.5f}\".format(mse_score))"
      ],
      "metadata": {
        "id": "f7AXJK33EXKC"
      },
      "execution_count": null,
      "outputs": []
    },
    {
      "cell_type": "code",
      "source": [
        "_, ax = plt.subplots(figsize=(6,5))\n",
        "\n",
        "ax.scatter(X_test[:, 0], y_test, facecolors=\"none\", edgecolors='k')\n",
        "ax.scatter(X_test[:, 0], predictions, alpha=0.5, edgecolors='k')"
      ],
      "metadata": {
        "id": "-GKkmcg2E1rB"
      },
      "execution_count": null,
      "outputs": []
    },
    {
      "cell_type": "code",
      "source": [
        "lrm = LinearRegression()\n",
        "lrm.fit (X_train, y_train)"
      ],
      "metadata": {
        "id": "U5jAKTiWGi9z"
      },
      "execution_count": null,
      "outputs": []
    },
    {
      "cell_type": "code",
      "source": [
        "predictions = lrm.predict(X_test)\n",
        "mse_score = mse(y_test, predictions)\n",
        "\n",
        "print (\"MSE: {0:.5f}\".format(mse_score))"
      ],
      "metadata": {
        "id": "GsAUltfmGi90"
      },
      "execution_count": null,
      "outputs": []
    },
    {
      "cell_type": "code",
      "source": [
        "_, ax = plt.subplots(figsize=(6,5))\n",
        "\n",
        "ax.scatter(X_test[:, 0], y_test, facecolors=\"none\", edgecolors='k')\n",
        "ax.scatter(X_test[:, 0], predictions, alpha=0.5, edgecolors='k')"
      ],
      "metadata": {
        "id": "mKPoBI87Gi90"
      },
      "execution_count": null,
      "outputs": []
    },
    {
      "cell_type": "code",
      "source": [],
      "metadata": {
        "id": "r-QFqTAiGrIe"
      },
      "execution_count": null,
      "outputs": []
    },
    {
      "cell_type": "markdown",
      "source": [
        "### Second product - Quality estimation"
      ],
      "metadata": {
        "id": "G1XpA-WhyWbC"
      }
    },
    {
      "cell_type": "code",
      "source": [
        "data_cl_tf2 = data_cl_tf.copy()\n",
        "\n",
        "vals = _\n",
        "for i, val in enumerate(vals): data_cl_tf2['OverallQual'].replace(val, i, inplace=True)\n"
      ],
      "metadata": {
        "id": "QLA_8KsrFZJm"
      },
      "execution_count": null,
      "outputs": []
    },
    {
      "cell_type": "code",
      "source": [
        "print (data_cl_tf2.columns)\n",
        "X = np.concatenate([ _ , _ ], axis=1)\n",
        "y = np.array( _ )\n",
        "\n",
        "print(X.shape, y.shape)"
      ],
      "metadata": {
        "id": "_iT3-J8QDqsC"
      },
      "execution_count": null,
      "outputs": []
    },
    {
      "cell_type": "code",
      "source": [
        "X_train, X_test, y_train, y_test = train_test_split(X, y, test_size=0.2, random_state = 1)\n",
        "\n",
        "print (X_train.shape, X_test.shape, y_train.shape, y_test.shape)"
      ],
      "metadata": {
        "colab": {
          "base_uri": "https://localhost:8080/"
        },
        "outputId": "4da255a1-eb91-489c-d18e-2492c5d77f2c",
        "id": "dExmE-i8J7Z4"
      },
      "execution_count": null,
      "outputs": [
        {
          "output_type": "stream",
          "name": "stdout",
          "text": [
            "(1070, 33) (268, 33) (1070,) (268,)\n"
          ]
        }
      ]
    },
    {
      "cell_type": "code",
      "source": [
        "from sklearn.neighbors import KNeighborsClassifier\n",
        "from sklearn.svm import SVC\n",
        "from sklearn.linear_model import LogisticRegression\n",
        "from sklearn.metrics import classification_report, confusion_matrix"
      ],
      "metadata": {
        "id": "J3i9P91RI5y5"
      },
      "execution_count": null,
      "outputs": []
    }
  ]
}