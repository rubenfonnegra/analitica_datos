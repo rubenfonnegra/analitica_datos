{
  "nbformat": 4,
  "nbformat_minor": 0,
  "metadata": {
    "colab": {
      "provenance": [],
      "collapsed_sections": [
        "7g2JnhqCCDfv",
        "Yr1XBag6uioF"
      ]
    },
    "kernelspec": {
      "name": "python3",
      "display_name": "Python 3"
    }
  },
  "cells": [
    {
      "cell_type": "markdown",
      "source": [
        "# Classification problems"
      ],
      "metadata": {
        "id": "7g2JnhqCCDfv"
      }
    },
    {
      "cell_type": "code",
      "source": [
        "import numpy as np\n",
        "import pandas as pd\n",
        "import matplotlib.pyplot as plt\n",
        "import seaborn as sns\n",
        "\n",
        "from sklearn.datasets import make_circles\n",
        "from sklearn.preprocessing import MinMaxScaler\n",
        "from sklearn.model_selection import train_test_split\n",
        "from sklearn.metrics import confusion_matrix, accuracy_score\n",
        "\n",
        "from tensorflow.keras.models import Sequential\n",
        "from tensorflow.keras.layers import Dense\n",
        "from tensorflow.keras.utils import to_categorical\n",
        "from tensorflow.keras.optimizers import Adam"
      ],
      "metadata": {
        "id": "HPA2Mn3KCMEU"
      },
      "execution_count": null,
      "outputs": []
    },
    {
      "cell_type": "code",
      "source": [
        "X, y = make_circles(n_samples=1000, noise = 0.05, factor=0.6, random_state=1)\n",
        "\n",
        "# scale data to [0, 1]\n",
        "X = _\n",
        "\n",
        "# Split data to train - test\n",
        "_\n",
        "\n",
        "# Print all shapes\n",
        "print (X.shape, y.shape, X_train.shape, X_test.shape, y_train.shape, y_test.shape)"
      ],
      "metadata": {
        "colab": {
          "base_uri": "https://localhost:8080/"
        },
        "id": "vyUKKbiXnqSh",
        "outputId": "5ac62b77-e48e-49df-9849-a4f439dff304"
      },
      "execution_count": null,
      "outputs": [
        {
          "output_type": "stream",
          "name": "stdout",
          "text": [
            "(1000, 2) (1000,) (800, 2) (200, 2) (800,) (200,)\n"
          ]
        }
      ]
    },
    {
      "cell_type": "code",
      "source": [
        "## Scatterplot of data"
      ],
      "metadata": {
        "id": "7Uz9JHk2Dvc2"
      },
      "execution_count": null,
      "outputs": []
    },
    {
      "cell_type": "code",
      "source": [
        "# Convert to categorical variable\n"
      ],
      "metadata": {
        "id": "XVRZnnYBKcnH"
      },
      "execution_count": null,
      "outputs": []
    },
    {
      "cell_type": "code",
      "source": [
        "# Create a model\n"
      ],
      "metadata": {
        "id": "exqbBnJmFteQ"
      },
      "execution_count": null,
      "outputs": []
    },
    {
      "cell_type": "code",
      "source": [
        "# Compile model\n"
      ],
      "metadata": {
        "id": "rlhImQl6Gc6r"
      },
      "execution_count": null,
      "outputs": []
    },
    {
      "cell_type": "code",
      "source": [
        "# Training\n",
        "stats = _"
      ],
      "metadata": {
        "id": "lRevufnzGlax"
      },
      "execution_count": null,
      "outputs": []
    },
    {
      "cell_type": "code",
      "source": [
        "print (stats.history.keys())"
      ],
      "metadata": {
        "id": "D0KeAbk0Hfe6"
      },
      "execution_count": null,
      "outputs": []
    },
    {
      "cell_type": "code",
      "source": [
        "# Plot training loss and accuracy\n",
        "_, axes = plt.subplots(1,2, figsize=(8,4))\n",
        "_\n",
        "axes[0].set_title(\"Loss\")\n",
        "\n",
        "_\n",
        "axes[1].set_title(\"Accuracy\")"
      ],
      "metadata": {
        "id": "rllotDMTG6SS"
      },
      "execution_count": null,
      "outputs": []
    },
    {
      "cell_type": "code",
      "source": [
        "# Predictions\n",
        "predictions = _\n",
        "predictions = _ # convert to numerical var\n",
        "y_test_ = _ # convert to numerical var\n",
        "\n",
        "# Compute metrics\n",
        "_, ax = plt.subplots(figsize=(4,3))\n",
        "acc = _\n",
        "cm  = _\n",
        "\n",
        "# print and plot stats\n",
        "_"
      ],
      "metadata": {
        "id": "I68kTuERIUE6"
      },
      "execution_count": null,
      "outputs": []
    },
    {
      "cell_type": "code",
      "source": [
        "def plot_decision_boundary (clf, x, y, res=0.1, slide=0.1, ax = None, ax_names = None):\n",
        "    #\n",
        "    assert x.shape[1] == 2, ValueError('Num features (cols) must be 2. Current: {0}'.format(x.shape[1]))\n",
        "\n",
        "    # Min max values for the decision bounding grid\n",
        "    h_min, h_max = x[:, 0].min()-slide, x[:, 0].max()+slide\n",
        "    v_min, v_max = x[:, 1].min()-slide, x[:, 1].max()+slide\n",
        "\n",
        "    # Create the grid\n",
        "    h_grid, v_grid = np.meshgrid(np.arange( h_min , h_max , res), np.arange( v_min , v_max , res))\n",
        "\n",
        "    # Predict\n",
        "    predictions = clf.predict(np.c_[h_grid.ravel(), v_grid.ravel()])\n",
        "    # Reshape back to original dim\n",
        "    predictions = np.argmax(predictions, axis=1)\n",
        "    predictions = predictions.reshape( h_grid.shape )\n",
        "\n",
        "    # Draw everything\n",
        "    if ax == None: _, ax = plt.subplots (figsize=(7,5))\n",
        "    ax.pcolormesh( h_grid , v_grid , predictions , cmap = plt.cm.Paired)\n",
        "    ax.contour( h_grid , v_grid , predictions , colors=['k', 'k', 'k'], linestyles=['--', '--', '--'], levels=[0, 1, 2])\n",
        "\n",
        "    # show the scatter\n",
        "    ax.scatter ( x[:, 0] , x[:, 1] , c = y , edgecolors='k', cmap=plt.cm.Paired)\n",
        "\n",
        "    ax.set_xlim(h_min, h_max)\n",
        "    ax.set_ylim(v_min, v_max)\n",
        "\n",
        "    if ax_names != None:\n",
        "        ax.set_xlabel(ax_names[0]), ax.set_ylabel(ax_names[1])\n",
        "\n",
        "    # ax.set_xticks(())\n",
        "    # ax.set_yticks(())"
      ],
      "metadata": {
        "id": "QILD-ylAM6gA"
      },
      "execution_count": null,
      "outputs": []
    },
    {
      "cell_type": "code",
      "source": [
        "_, ax = plt.subplots(figsize=(5,4))\n",
        "_"
      ],
      "metadata": {
        "id": "hGNC5MAXMuZ4"
      },
      "execution_count": null,
      "outputs": []
    },
    {
      "cell_type": "markdown",
      "source": [
        "## MNIST"
      ],
      "metadata": {
        "id": "vvDrB6OoCKQc"
      }
    },
    {
      "cell_type": "code",
      "metadata": {
        "id": "mOmbMjRIBZ4Y"
      },
      "source": [
        "import numpy as np\n",
        "import pandas as pd\n",
        "import matplotlib.pyplot as plt\n",
        "from sklearn.model_selection import train_test_split\n",
        "\n",
        "import tensorflow\n",
        "from tensorflow.keras.models import Sequential\n",
        "from tensorflow.keras.layers import Dense\n",
        "from tensorflow.keras.utils import to_categorical"
      ],
      "execution_count": null,
      "outputs": []
    },
    {
      "cell_type": "code",
      "metadata": {
        "id": "5GuRujLbydhy",
        "colab": {
          "base_uri": "https://localhost:8080/"
        },
        "outputId": "6feb50bb-6876-4cd0-e452-4f6bad3a8bb6"
      },
      "source": [
        "import pandas as pd\n",
        "\n",
        "data = pd.read_csv(\"/content/sample_data/mnist_train_small.csv\", header=None)\n",
        "\n",
        "X = _\n",
        "y = _\n",
        "\n",
        "print (X.shape, y.shape)"
      ],
      "execution_count": null,
      "outputs": [
        {
          "output_type": "stream",
          "name": "stdout",
          "text": [
            "(20000, 784) (20000,)\n",
            "(array([0, 1, 2, 3, 4, 5, 6, 7, 8, 9]), array([1962, 2243, 1989, 2021, 1924, 1761, 2039, 2126, 1912, 2023]))\n"
          ]
        }
      ]
    },
    {
      "cell_type": "code",
      "metadata": {
        "id": "CD9GIXLGCHkP"
      },
      "source": [
        "# Configuration options\n",
        "feature_vector_length = _\n",
        "num_classes = _"
      ],
      "execution_count": null,
      "outputs": []
    },
    {
      "cell_type": "code",
      "source": [
        "# Reshape data to images\n",
        "_\n",
        "print (X_train.shape, X_test.shape, y_train.shape, y_test.shape)"
      ],
      "metadata": {
        "colab": {
          "base_uri": "https://localhost:8080/"
        },
        "id": "q7TlM7c2HTC6",
        "outputId": "fb0c7b44-89e6-42d6-e860-9861666156ad"
      },
      "execution_count": null,
      "outputs": [
        {
          "output_type": "stream",
          "name": "stdout",
          "text": [
            "(16000, 28, 28) (4000, 28, 28) (16000,) (4000,)\n"
          ]
        }
      ]
    },
    {
      "cell_type": "code",
      "source": [
        "# Visualize samples sample\n",
        "grid_size = (5,5)\n",
        "_\n"
      ],
      "metadata": {
        "id": "3V4KSR11Epo_"
      },
      "execution_count": null,
      "outputs": []
    },
    {
      "cell_type": "code",
      "source": [
        "# Reshape the data - MLPs do not understand such things as '2D'.\n",
        "# Reshape to 28 x 28 pixels = 784 features\n",
        "X_train = _\n",
        "X_test = _\n",
        "\n",
        "# Convert into greyscale\n",
        "X_train /= 255\n",
        "X_test /= 255"
      ],
      "metadata": {
        "id": "BIin-x7KeuRp"
      },
      "execution_count": null,
      "outputs": []
    },
    {
      "cell_type": "code",
      "metadata": {
        "id": "4qCT-uXQCf-R",
        "colab": {
          "base_uri": "https://localhost:8080/"
        },
        "outputId": "372632e5-da49-4e6b-e822-2e432c54ab06"
      },
      "source": [
        "# Convert target classes to categorical ones\n",
        "Y_train = _\n",
        "Y_test = _"
      ],
      "execution_count": null,
      "outputs": [
        {
          "output_type": "stream",
          "name": "stdout",
          "text": [
            "Feature shape: (784,)\n"
          ]
        }
      ]
    },
    {
      "cell_type": "code",
      "source": [
        "# Create a model\n"
      ],
      "metadata": {
        "id": "ZaY3bbaUQ7Dp"
      },
      "execution_count": null,
      "outputs": []
    },
    {
      "cell_type": "code",
      "source": [
        "# Compile model\n"
      ],
      "metadata": {
        "id": "qGPnQnDvQ7Ds"
      },
      "execution_count": null,
      "outputs": []
    },
    {
      "cell_type": "code",
      "source": [
        "# Training\n",
        "stats = _"
      ],
      "metadata": {
        "id": "YV_WBsFZQ7Ds"
      },
      "execution_count": null,
      "outputs": []
    },
    {
      "cell_type": "code",
      "source": [
        "print (stats.history.keys())"
      ],
      "metadata": {
        "id": "QotFSuTjQ7Dt"
      },
      "execution_count": null,
      "outputs": []
    },
    {
      "cell_type": "code",
      "source": [
        "# Plot training loss and accuracy\n",
        "_, axes = plt.subplots(1,2, figsize=(8,4))\n",
        "_\n",
        "axes[0].set_title(\"Loss\")\n",
        "\n",
        "_\n",
        "axes[1].set_title(\"Accuracy\")"
      ],
      "metadata": {
        "id": "f8Btv0OlRIQT"
      },
      "execution_count": null,
      "outputs": []
    },
    {
      "cell_type": "code",
      "source": [
        "# Compute metrics and evaluate"
      ],
      "metadata": {
        "id": "lroeSnoHRJY7"
      },
      "execution_count": null,
      "outputs": []
    },
    {
      "cell_type": "markdown",
      "source": [
        "# Regression\n"
      ],
      "metadata": {
        "id": "Yr1XBag6uioF"
      }
    },
    {
      "cell_type": "code",
      "source": [
        "import numpy as np\n",
        "import pandas as pd\n",
        "import matplotlib.pyplot as plt\n",
        "import seaborn as sns\n",
        "\n",
        "from sklearn.preprocessing import MinMaxScaler\n",
        "from sklearn.model_selection import train_test_split\n",
        "from sklearn.metrics import mean_squared_error\n",
        "\n",
        "from tensorflow.keras.models import Sequential\n",
        "from tensorflow.keras.layers import Dense\n",
        "from tensorflow.keras.optimizers import Adam"
      ],
      "metadata": {
        "id": "tX-JCzjauqcU"
      },
      "execution_count": null,
      "outputs": []
    },
    {
      "cell_type": "code",
      "source": [
        "train_data = _\n",
        "test_data = _"
      ],
      "metadata": {
        "id": "3lkoguSQKAvs"
      },
      "execution_count": null,
      "outputs": []
    },
    {
      "cell_type": "code",
      "source": [
        "# Plot hist\n",
        "_, ax = plt.subplots(figsize=(5,4))\n",
        "_\n",
        "_"
      ],
      "metadata": {
        "id": "YmNslHPZKQhx"
      },
      "execution_count": null,
      "outputs": []
    },
    {
      "cell_type": "code",
      "source": [
        "scaler = MinMaxScaler()\n",
        "\n",
        "train_data = _\n",
        "test_data = _\n",
        "\n",
        "X_train = _\n",
        "X_test  = _\n",
        "\n",
        "y_train = _\n",
        "y_test  = _\n",
        "\n",
        "print (X_train.shape, X_test.shape, y_train.shape, y_test.shape)"
      ],
      "metadata": {
        "id": "CRk6pavwKt8M"
      },
      "execution_count": null,
      "outputs": []
    },
    {
      "cell_type": "code",
      "source": [
        "# Create a model\n"
      ],
      "metadata": {
        "id": "MhFDsHhiRdvA"
      },
      "execution_count": null,
      "outputs": []
    },
    {
      "cell_type": "code",
      "source": [
        "# Compile model\n"
      ],
      "metadata": {
        "id": "J943j2L7RdvI"
      },
      "execution_count": null,
      "outputs": []
    },
    {
      "cell_type": "code",
      "source": [
        "# Training\n",
        "stats = _"
      ],
      "metadata": {
        "id": "MoR2TWqBRdvI"
      },
      "execution_count": null,
      "outputs": []
    },
    {
      "cell_type": "code",
      "source": [
        "# Predictions\n",
        "_"
      ],
      "metadata": {
        "id": "mEkPq6AiNHBp"
      },
      "execution_count": null,
      "outputs": []
    },
    {
      "cell_type": "code",
      "source": [
        "# Compute metrics and evaluate"
      ],
      "metadata": {
        "id": "EzTLqetYRoJz"
      },
      "execution_count": null,
      "outputs": []
    }
  ]
}