{
  "cells": [
    {
      "cell_type": "markdown",
      "metadata": {
        "id": "JC-IJfoeK7hD"
      },
      "source": [
        "# **🗃️ Data Lab**"
      ]
    },
    {
      "cell_type": "markdown",
      "metadata": {
        "id": "Fj-wgtpcBmuN"
      },
      "source": [
        "Useful dataset: [Fruits dataset](https://drive.google.com/file/d/1Jn15Qra1NldKC6ELVTTFWrqZ5OJdK5pL/view?usp=sharing)"
      ]
    },
    {
      "cell_type": "markdown",
      "metadata": {
        "id": "DxrrSG1voiSd"
      },
      "source": [
        "## Generate samples 🎯"
      ]
    },
    {
      "cell_type": "code",
      "execution_count": null,
      "metadata": {
        "cellView": "form",
        "id": "uTPPONJHzBR5"
      },
      "outputs": [],
      "source": [
        "import time\n",
        "import warnings\n",
        "warnings.filterwarnings(\"ignore\")\n",
        "\n",
        "import numpy as np\n",
        "import matplotlib.pyplot as plt\n",
        "\n",
        "from sklearn import datasets\n",
        "\n",
        "# @markdown \\\n",
        "\n",
        "# ============\n",
        "# Parameters\n",
        "# ============\n",
        "\n",
        "n_samples = 500 # @param {type:\"integer\"}\n",
        "type_dataset = \"noisy_moons\" # @param [\"noisy_circles\", \"noisy_moons\", \"blobs\", \"no_structure\", \"anisotropic\", \"varied_var\"]\n",
        "noise = 0.05 # @param {type:\"slider\", min:0, max:0.5, step:0.01}\n",
        "angle_aniso = 110 # @param {type:\"slider\", min:0, max:180, step:10}\n",
        "random_state = 4 # @param {type:\"integer\"}\n",
        "\n",
        "\n",
        "# ===================\n",
        "# Generate datasets\n",
        "# ===================\n",
        "\n",
        "if type_dataset == \"noisy_circles\":\n",
        "  X, _ = datasets.make_circles(n_samples=n_samples, factor=0.5, noise=noise, random_state=random_state)\n",
        "\n",
        "elif type_dataset == \"noisy_moons\":\n",
        "  X, _ = datasets.make_moons(n_samples=n_samples, noise=noise, random_state=random_state)\n",
        "\n",
        "elif type_dataset == \"blobs\":\n",
        "  X, _ = datasets.make_blobs(n_samples=n_samples, random_state=random_state)\n",
        "  X += np.random.rand(n_samples, 2)*noise*X.min()\n",
        "\n",
        "elif type_dataset == \"no_structure\":\n",
        "  X = np.random.rand(n_samples, 2)\n",
        "\n",
        "elif type_dataset == \"anisotropic\":\n",
        "  X, _ = datasets.make_blobs(n_samples=n_samples, random_state=random_state)\n",
        "  t = np.tan(np.radians(angle_aniso))\n",
        "  transformation = np.array(((1, t), (0, 1))).T\n",
        "  X = np.dot(X, transformation)\n",
        "  X += np.random.rand(n_samples, 2)*noise*X.min()\n",
        "\n",
        "elif type_dataset == \"varied_var\":\n",
        "  X, _ = datasets.make_blobs(n_samples=n_samples, cluster_std=[1.0, 2.5, 0.5], random_state=random_state)\n",
        "  X += np.random.rand(n_samples, 2)*noise*X.min()\n",
        "\n",
        "_, ax = plt.subplots(figsize=(5,4))\n",
        "ax.scatter(X[:, 0], X[:, 1], edgecolors='k')\n",
        "\n",
        "print (\"\\nData shape: {0} \\n\".format(X.shape))"
      ]
    },
    {
      "cell_type": "markdown",
      "metadata": {
        "id": "pXWye_RQo3r3"
      },
      "source": [
        "## Load a dataset 📑"
      ]
    },
    {
      "cell_type": "code",
      "execution_count": null,
      "metadata": {
        "cellView": "form",
        "colab": {
          "base_uri": "https://localhost:8080/",
          "height": 440
        },
        "id": "YP61e7ngtFAE",
        "outputId": "80d882c8-7e49-4868-94bc-081d25fdd6b6"
      },
      "outputs": [],
      "source": [
        "# @markdown ---\n",
        "\n",
        "# @markdown \\\n",
        "# @markdown ### 🔼 Upload your file (first)\n",
        "# @markdown \\\n",
        "\n",
        "# @markdown ---\n",
        "# @markdown ### Enter path to **.csv* file:\n",
        "file_path = \"/content/Data/fruits_data_ext.csv\" # @param {type:\"string\"}\n",
        "\n",
        "var_h = \"width\" # @param {type:\"string\"}\n",
        "var_v = \"height\" # @param {type:\"string\"}\n",
        "labels = \"fruit_label\" # @param {type:\"string\"}\n",
        "normalization = \"None\" # @param [\"MinMax [0,1]\", \"MinMax [-1,1]\", \"Z-Score\", \"None\"]\n",
        "\n",
        "\n",
        "import numpy as np\n",
        "import pandas as pd\n",
        "import seaborn as sns\n",
        "import matplotlib.pyplot as plt\n",
        "from sklearn.preprocessing import StandardScaler, MinMaxScaler\n",
        "import warnings\n",
        "warnings.filterwarnings(\"ignore\")\n",
        "\n",
        "data = pd.read_csv(file_path)\n",
        "X = np.c_[np.array(data[var_h]), np.array(data[var_v])]\n",
        "y = np.array(data[labels]) if labels != \"\" else None\n",
        "\n",
        "if   normalization == \"MinMax [0,1]\":\n",
        "  X = MinMaxScaler().fit_transform(X)\n",
        "elif normalization == \"MinMax [-1,1]\":\n",
        "  X = MinMaxScaler(feature_range=(-1,1)).fit_transform(X)\n",
        "elif normalization == \"Z-Score\":\n",
        "  X = StandardScaler().fit_transform(X)\n",
        "\n",
        "data[var_h], data[var_v] = X[:, 0], X[:, 1]\n",
        "\n",
        "_, ax = plt.subplots (figsize=(5,4))\n",
        "# ax.scatter(X[:, 0], X[:, 1], c=y, cmap='Paired', edgecolors='k')\n",
        "sns.scatterplot(ax=ax,data=data,x=var_h,y=var_v, hue=labels if labels != \"\" else None, palette='colorblind')\n",
        "print (\"\\nData Loaded! ✅ \\n\")\n"
      ]
    },
    {
      "cell_type": "markdown",
      "metadata": {
        "id": "eJbFYZLULD_u"
      },
      "source": [
        "# **📋 Model Lab**"
      ]
    },
    {
      "cell_type": "code",
      "execution_count": null,
      "metadata": {
        "id": "pe_aDliK0FKf"
      },
      "outputs": [],
      "source": [
        "from sklearn import cluster, mixture\n",
        "from sklearn.neighbors import kneighbors_graph\n",
        "from sklearn.preprocessing import StandardScaler\n",
        "\n",
        "# @markdown \\\n",
        "\n",
        "model = \"SpectralClustering\" # @param [\"Kmeans\", \"MiniBatchKMeans\", \"MeanShift\", \"Ward\", \"SpectralClustering\", \"DBSCAN\", \"OPTICS\", \"AgglomerativeClustering\", \"GaussianMixture\"]\n",
        "n_clusters = 2 # @param {type:\"integer\"}\n",
        "\n",
        "# @markdown ---\n",
        "# @markdown \\\n",
        "# @markdown ### ✏️ Aditional Params\n",
        "# @markdown \\\n",
        "random_state = 4 # @param {type:\"integer\"}\n",
        "kmeans_init = \"random\" # @param [\"k-means++\", \"random\"]\n",
        "metric = \"euclidean\" # @param [\"euclidean\", \"cityblock\", \"cosine\", \"l1\", \"l2\", \"chebyshev\", \"mahalanobis\"]\n",
        "n_neighbors = 2 # @param {type:\"integer\"}\n",
        "bandwidth = 0.1 # @param {type:\"number\"}\n",
        "eigen_solver = \"arpack\" # @param [\"arpack\", \"lobpcg\", \"amg\"]\n",
        "eps = 0.1 # @param {type:\"number\"}\n",
        "\n",
        "\n",
        "X = StandardScaler().fit_transform(X)\n",
        "\n",
        "if model == \"Kmeans\":\n",
        "  algo = cluster.KMeans(n_clusters=n_clusters, init=kmeans_init, random_state=random_state)\n",
        "\n",
        "elif model == \"MiniBatchKMeans\":\n",
        "  algo = cluster.MiniBatchKMeans(n_clusters=n_clusters, init=kmeans_init, random_state=random_state)\n",
        "\n",
        "elif model == \"MeanShift\":\n",
        "  algo = cluster.MeanShift(bandwidth=bandwidth, bin_seeding=True, random_state=random_state)\n",
        "\n",
        "elif model == \"Ward\":\n",
        "  connectivity = kneighbors_graph(X, n_neighbors=n_neighbors, include_self=False)\n",
        "  algo = cluster.AgglomerativeClustering(n_clusters=n_clusters, linkage=\"ward\", \\\n",
        "                                         metric=metric, connectivity=connectivity)\n",
        "\n",
        "elif model == \"SpectralClustering\":\n",
        "  algo = cluster.SpectralClustering(n_clusters=n_clusters, \\\n",
        "                                    eigen_solver=eigen_solver, \\\n",
        "                                    affinity=\"nearest_neighbors\", \\\n",
        "                                    random_state=random_state)\n",
        "\n",
        "elif model == \"DBSCAN\":\n",
        "  algo = cluster.DBSCAN(eps=eps, metric=metric)\n",
        "\n",
        "elif model == \"AgglomerativeClustering\":\n",
        "  connectivity = kneighbors_graph(X, n_neighbors=n_neighbors, include_self=False)\n",
        "  algo = cluster.AgglomerativeClustering(linkage=\"average\", metric=metric, \\\n",
        "                                          n_clusters=n_clusters, \\\n",
        "                                          connectivity=connectivity)\n",
        "\n",
        "elif model == \"GaussianMixture\":\n",
        "  algo = mixture.GaussianMixture(n_components=n_clusters, covariance_type=\"full\", random_state=random_state)\n",
        "\n",
        "\n",
        "print (\"\\nModel {0} is ready!\\n\".format(model))"
      ]
    },
    {
      "cell_type": "markdown",
      "metadata": {
        "id": "rRSkfgspLKO2"
      },
      "source": [
        "# **🤖 Run training!**"
      ]
    },
    {
      "cell_type": "code",
      "execution_count": null,
      "metadata": {
        "cellView": "form",
        "id": "yZZKIePgDV7B"
      },
      "outputs": [],
      "source": [
        "from itertools import cycle, islice\n",
        "\n",
        "# @markdown ### Start now 🦾\n",
        "# @markdown \\\n",
        "\n",
        "\n",
        "algo.fit(X)\n",
        "\n",
        "if hasattr(algo, \"labels_\"):\n",
        "    pred = algo.labels_.astype(int)\n",
        "else:\n",
        "    pred = algo.predict(X)\n",
        "\n",
        "_, ax = plt.subplots(figsize=(5,4))\n",
        "ax.set_title(\"{0}\".format(model))\n",
        "\n",
        "print (\"\\nTraining done! ✅\")\n",
        "\n",
        "colors = np.array(list(islice(cycle([\"#377eb8\", \"#ff7f00\", \"#4daf4a\", \"#f781bf\", \"#a65628\", \\\n",
        "                                     \"#984ea3\", \"#999999\", \"#e41a1c\", \"#dede00\", \"#000000\"]), int(max(pred) + 1),)))\n",
        "\n",
        "ax.scatter(X[:, 0], X[:, 1], c=colors[pred], edgecolors='k')\n",
        "print (\"Plots... \\n\")"
      ]
    }
  ],
  "metadata": {
    "colab": {
      "collapsed_sections": [
        "JC-IJfoeK7hD",
        "DxrrSG1voiSd",
        "pXWye_RQo3r3",
        "eJbFYZLULD_u",
        "rRSkfgspLKO2"
      ],
      "provenance": []
    },
    "kernelspec": {
      "display_name": "Python 3",
      "name": "python3"
    },
    "language_info": {
      "name": "python"
    }
  },
  "nbformat": 4,
  "nbformat_minor": 0
}
