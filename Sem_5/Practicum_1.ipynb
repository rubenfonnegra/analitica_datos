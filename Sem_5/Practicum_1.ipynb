{
  "cells": [
    {
      "cell_type": "markdown",
      "metadata": {
        "id": "vAg8z8ecztQU"
      },
      "source": [
        "# Practicum 1: *Ley de los Grandes Números*\n"
      ]
    },
    {
      "cell_type": "markdown",
      "metadata": {
        "id": "tNxEWKdzztQV"
      },
      "source": [
        "> Considere cada $n$ entre $1$ y $3000$:\n",
        ">\n",
        ">   generar observaciones $x_1, \\dots , x_n$ de $X_1, \\dots , X_n$ v.a. i.i.d. con distribución $\\varepsilon(\\lambda)$, con $\\lambda$ a elección y obtener\n",
        ">\n",
        ">   $$\\bar x_n = \\frac 1 n \\sum_{i=1}^n x_i $$\n",
        ">\n",
        ">   es decir, una observación $\\bar x_n$ de\n",
        ">\n",
        ">   $$\\bar X_n = \\frac 1 n \\sum_{i=1}^n X_i$$\n",
        "\n",
        "---"
      ]
    },
    {
      "cell_type": "markdown",
      "metadata": {
        "ExecuteTime": {
          "end_time": "2019-10-16T01:32:43.134857Z",
          "start_time": "2019-10-16T01:32:42.853Z"
        },
        "id": "JVD-PbqCztQX"
      },
      "source": [
        "Sea:\n",
        "\n",
        "$$X_i \\sim \\varepsilon(\\lambda)$$\n",
        "\n",
        "$E[X_i] = \\frac 1 \\lambda$\n",
        "\n",
        "$V[X_i] = \\frac 1 {\\lambda^2}$\n",
        "\n",
        "Elijo $\\lambda = 4$ para todos los experimentos"
      ]
    },
    {
      "cell_type": "markdown",
      "metadata": {
        "id": "WHKn9JbKSj8f"
      },
      "source": [
        "#### Para *Exponencial*($\\lambda$)\n",
        "\n",
        "[Hint: Exponential distribution](https://en.wikipedia.org/wiki/Exponential_distribution)\n",
        "\n",
        "* ***PDF***:\n",
        "$$f_X(x) = \\lambda e^{-\\lambda x}$$\n",
        "\n",
        "* ***CDF***:\n",
        "$$F_X(x) = 1 - \\lambda e^{-\\lambda x}$$"
      ]
    },
    {
      "cell_type": "code",
      "source": [
        "import numpy as np\n",
        "import pandas as pd\n",
        "import matplotlib.pyplot as plt\n",
        "import scipy.stats as stats\n",
        "\n",
        "np.random.seed(10)\n",
        "\n",
        "def exponential_pdf(lmbda, x):\n",
        "    return lmbda * np.exp(-lmbda * x)\n",
        "\n",
        "def exponential_grid(lmbda, desde=0, hasta=2, step=0.1):\n",
        "    xs = np.arange(desde, hasta + step, step)\n",
        "    ys = [exponential_pdf(lmbda, x) for x in xs]\n",
        "\n",
        "    valores = pd.DataFrame({\n",
        "        'xs': xs,\n",
        "        'ys': ys\n",
        "    })\n",
        "\n",
        "    return valores\n",
        "\n",
        "lambda_=4 # @param {type:\"number\"}\n",
        "\n",
        "grid = exponential_grid(lmbda=4)\n",
        "print(grid.head())"
      ],
      "metadata": {
        "cellView": "form",
        "id": "vwd046x5XOcV"
      },
      "execution_count": null,
      "outputs": []
    },
    {
      "cell_type": "code",
      "source": [
        "# @markdown ---\n",
        "# @markdown ### Genera muestras aleatorias siguiendo $\\varepsilon(\\lambda)$ :\n",
        "# @markdown ---\n",
        "\n",
        "lambda_val = lambda_\n",
        "muestras_de_exponencial = np.random.exponential(scale=1 / lambda_val, size=30000)\n",
        "\n",
        "# Calculate the expected value\n",
        "esperanza_exp = 1 / lambda_val\n",
        "\n",
        "# Create a range of x values for the PDF\n",
        "x_values = np.arange(0, 2, 0.01)\n",
        "\n",
        "# Calculate the corresponding PDF values\n",
        "pdf_values = [exponential_pdf(lambda_val, x) for x in x_values]\n",
        "\n",
        "# Create a 1x2 grid for plots\n",
        "plt.figure(figsize=(12, 4))\n",
        "\n",
        "# Plot the histogram and PDF on the left\n",
        "plt.subplot(121)\n",
        "plt.hist(muestras_de_exponencial, bins=30, density=True, color=\"lightblue\", alpha=0.7)\n",
        "plt.plot(x_values, pdf_values, color=\"blue\")\n",
        "plt.axvline(x=esperanza_exp, color=\"red\", linestyle=\"--\", label=\"Expected Value\")\n",
        "plt.legend()\n",
        "plt.title(\"Exponential PDF and Sample Histogram\")\n",
        "\n",
        "# Scatter plot on the right\n",
        "plt.subplot(122)\n",
        "plt.plot(x_values, pdf_values, marker='o', markersize=2, color=\"blue\")\n",
        "plt.axvline(x=esperanza_exp, color=\"red\", linestyle=\"--\", label=\"Expected Value\")\n",
        "plt.legend()\n",
        "plt.title(\"Scatter Plot of Exponential PDF\")\n",
        "\n",
        "plt.tight_layout()\n",
        "plt.show()"
      ],
      "metadata": {
        "cellView": "form",
        "id": "7_YMP0bsYCLE"
      },
      "execution_count": null,
      "outputs": []
    },
    {
      "cell_type": "code",
      "source": [
        "# @markdown ### Determina la media al variar las observaciones :\n",
        "\n",
        "max_n = 3000 # @param {type:\"number\"}\n",
        "lambda_val = lambda_\n",
        "\n",
        "# Initialize an array for storing the averages\n",
        "promedios = np.zeros(max_n)\n",
        "\n",
        "# Calculate the averages for different sample sizes\n",
        "for i in range(1, max_n + 1):\n",
        "    samples = np.random.exponential(scale=1 / lambda_val, size=i)\n",
        "    promedios[i - 1] = np.mean(samples)\n",
        "\n",
        "# Create a plot\n",
        "plt.figure(figsize=(10, 6))\n",
        "plt.plot(range(1, max_n + 1), promedios, marker='o', markersize=2, color=\"blue\")\n",
        "plt.axhline(y=1 / lambda_val, color=\"red\", linestyle=\"--\", label=\"Expected Value\")\n",
        "plt.xlabel(\"n: Sample Size\")\n",
        "plt.ylabel(\"Sample Mean\")\n",
        "plt.title(\"Sample Means vs. Sample Size\")\n",
        "plt.legend()\n",
        "plt.grid()\n",
        "plt.show()\n"
      ],
      "metadata": {
        "cellView": "form",
        "id": "poz6NtZhYQv2"
      },
      "execution_count": null,
      "outputs": []
    },
    {
      "cell_type": "code",
      "source": [
        "# @markdown ### Determina la mediana al variar las observaciones :\n",
        "\n",
        "# Parameters\n",
        "n_veci = 50\n",
        "\n",
        "# Initialize arrays for storing the medians of neighboring sample means\n",
        "prom_vecinos_sup = np.zeros(max_n)\n",
        "prom_vecinos_inf = np.zeros(max_n)\n",
        "\n",
        "# Calculate the medians for neighboring sample means\n",
        "rango_reduc = np.arange(n_veci, max_n - n_veci)\n",
        "for i in rango_reduc:\n",
        "    vecinos = np.arange(i - n_veci + 1, i + n_veci + 1)\n",
        "    prom_vecinos_sup[i] = np.median(np.abs(promedios[vecinos] - 1 / lambda_val)) + 1 / lambda_val\n",
        "    prom_vecinos_inf[i] = np.median(-np.abs(promedios[vecinos] - 1 / lambda_val)) + 1 / lambda_val\n",
        "\n",
        "promedios_de = {}\n",
        "\n",
        "# Create a plot\n",
        "plt.figure(figsize=(10, 6))\n",
        "plt.plot(range(1, max_n + 1), promedios, marker='o', markersize=2, color=\"blue\", label=\"Sample Mean\")\n",
        "plt.plot(range(n_veci, max_n - n_veci), prom_vecinos_sup[n_veci:max_n - n_veci], marker='o', markersize=1, color=\"red\", label=\"Median of Neighbors (Upper)\")\n",
        "plt.plot(range(n_veci, max_n - n_veci), prom_vecinos_inf[n_veci:max_n - n_veci], marker='o', markersize=1, color=\"red\", label=\"Median of Neighbors (Lower)\")\n",
        "plt.axhline(y=1 / lambda_val, color=\"green\", linestyle=\"--\", label=\"Expected Value\")\n",
        "plt.xlabel(\"n: Sample Size\")\n",
        "plt.ylabel(\"Sample Mean / Median of Neighbors\")\n",
        "plt.title(\"Sample Mean and Median of Neighbors vs. Sample Size\")\n",
        "plt.legend()\n",
        "plt.grid()\n",
        "plt.show()"
      ],
      "metadata": {
        "cellView": "form",
        "id": "BLtNoo8HYafW"
      },
      "execution_count": null,
      "outputs": []
    },
    {
      "cell_type": "markdown",
      "metadata": {
        "cell_style": "center",
        "id": "nBPijg9mztQc"
      },
      "source": [
        ">  ¿Qué observa? ¿A qué se debe?\n",
        "\n",
        "Se observa que los promedios que se obtienen con distintos $n$ se concentran en la esperanza $E[X_i]$ de la variable aleatoria de la que provienen las muestras:\n",
        "\n",
        "$$X_i \\sim \\varepsilon(\\lambda=4)$$\n",
        "\n",
        "Cuya esperanza es\n",
        "\n",
        "$$E[X_i] = \\frac 1 \\lambda = \\frac 1 4$$\n",
        "\n",
        "Ésto se debe a la [Ley de los Grandes Números](https://es.wikipedia.org/wiki/Ley_de_los_grandes_n%C3%BAmeros), que demuestra que cualquier variable aleatoria con varianza finita, **convergerá** (en el límite) a su esperanza al promediarse $n$ realizaciones."
      ]
    },
    {
      "cell_type": "markdown",
      "metadata": {
        "id": "3jA70bjsztQd"
      },
      "source": [
        "> 2. Para apreciar aún un poco más la **Ley de los Grandes Números**, realizar el siguiente experimento:\n",
        ">\n",
        ">   **(a)** Considerar dos observaciones $x_1$ y $x_2$ de variables aleatorias $X_1$ y $X_2$ independientes con distribución $\\varepsilon(\\lambda)$ y **guardar el promedio de ambas**, es decir, $\\bar x_2$.\n",
        ">   \n",
        ">   Repetir 1000 veces y a partir de los valores obtenidos realizar un ***histograma y un boxplot***.\n",
        ">\n",
        ">   ¿Qué características tienen?\n"
      ]
    },
    {
      "cell_type": "code",
      "source": [
        "# Parameters\n",
        "lambda_val = lambda_\n",
        "cant_exper = 1000 # @param {type:\"number\"}\n",
        "n = 2 # @param {type:\"number\"}\n",
        "\n",
        "# Initialize an array for storing the means of 2-sample means\n",
        "promedios_de[str(n)] = np.zeros(cant_exper)\n",
        "\n",
        "# Calculate the means of 2-sample means\n",
        "for i in range(cant_exper):\n",
        "    samples = np.random.exponential(scale=1 / lambda_val, size=n)\n",
        "    promedios_de[str(n)][i] = np.mean(samples)\n",
        "\n",
        "# Create a 2x2 grid for plots\n",
        "plt.figure(figsize=(12, 8))\n",
        "\n",
        "# Histogram\n",
        "plt.subplot(2, 2, 1)\n",
        "plt.hist(promedios_de[str(n)], bins=30, density=True, color=\"lightblue\", alpha=0.7)\n",
        "plt.title(\"Histogram of {0}-Sample Means\".format(n))\n",
        "\n",
        "# Boxplot\n",
        "plt.subplot(2, 2, 2)\n",
        "plt.boxplot(promedios_de[str(n)])\n",
        "plt.title(\"Boxplot of {0}-Sample Means\".format(n))\n",
        "\n",
        "# Show the plots\n",
        "plt.tight_layout()\n",
        "plt.show()"
      ],
      "metadata": {
        "cellView": "form",
        "id": "OFeHXs-WYlX_"
      },
      "execution_count": null,
      "outputs": []
    },
    {
      "cell_type": "markdown",
      "metadata": {
        "id": "AlkykWOAztQh"
      },
      "source": [
        ">   **(b)** Aumentar a **cinco** las **variables promediadas**, es decir, considerar ahora **n = 5** observaciones de variables aleatorias independientes con la misma distribución del ítem anterior y guardar $\\bar x_5$.\n",
        ">\n",
        ">   Repetir 1000 veces y realizar un histograma y un boxplot para los valores obtenidos.\n",
        ">\n",
        ">   Comparar con los obtenidos en el ítem anterior. ¿Qué se observa?"
      ]
    },
    {
      "cell_type": "markdown",
      "metadata": {
        "id": "9m9vNMqZztQk"
      },
      "source": [
        ">   **(c)** Aumentar a n = 30 el número de observaciones de v.a. i.i.d. y repetir el ítem anterior.\n",
        ">\n",
        ">   Repetir todo con n = 500."
      ]
    },
    {
      "cell_type": "markdown",
      "metadata": {
        "id": "bE7JFRFRztQr"
      },
      "source": [
        ">   **(d)** Realizar ***boxplots e histogramas*** de los 4 conjuntos de datos en el mismo gráfico.\n",
        ">\n",
        ">   ¿Qué pasaría si se siguiera aumentando el tamaño de la muestra?\n",
        "\n",
        "---"
      ]
    },
    {
      "cell_type": "markdown",
      "source": [
        "# *Teorema Central del Límite*"
      ],
      "metadata": {
        "id": "-wTz2fUjrpFp"
      }
    },
    {
      "cell_type": "markdown",
      "metadata": {
        "id": "JGDHmMiwztQs"
      },
      "source": [
        ">El **Teorema Central del Límite** nos dice que cuando hacemos la siguiente transformación con los promedios:\n",
        ">\n",
        ">   $$\\frac{\\bar X_n - E[X_1]}{\\sqrt\\frac{Var(X_1)}{n}}$$\n",
        ">\n",
        ">   la **distribución** de esta variable aleatoria se aproxima a la de la normal estándar si $n$ es ***suficientemente grande***.\n",
        ">\n",
        ">   Comprobaremos mediante una simulación este resultado."
      ]
    },
    {
      "cell_type": "code",
      "source": [
        "#@markdown **(a)** Realizar la transformación mencionada en los 4 conjuntos de datos\n",
        "#@markdown y graficar boxplots paralelos.\n",
        "\n",
        "# Parameters\n",
        "n_values = [2, 5, 30, 500]\n",
        "\n",
        "# Initialize arrays for storing the transformed values\n",
        "transformed_values = {}\n",
        "\n",
        "# Calculate the standardized values for different sample sizes\n",
        "for n in n_values:\n",
        "    promedios = promedios_de[str(n)]\n",
        "    transformed_values[n] = (promedios - (1 / lambda_val)) / np.sqrt((1 / lambda_val**2) / n)\n",
        "\n",
        "# Create a boxplot\n",
        "plt.figure(figsize=(8, 6))\n",
        "plt.boxplot([transformed_values[n] for n in n_values], labels=n_values)\n",
        "plt.title(\"Boxplot of Standardized Sample Means\")\n",
        "plt.xlabel(\"Sample Size (n)\")\n",
        "plt.ylabel(\"Standardized Value\")\n",
        "plt.grid()\n",
        "plt.show()"
      ],
      "metadata": {
        "cellView": "form",
        "id": "u-NjTXrmd4Ap"
      },
      "execution_count": null,
      "outputs": []
    },
    {
      "cell_type": "code",
      "execution_count": null,
      "metadata": {
        "ExecuteTime": {
          "end_time": "2019-10-21T02:01:27.384857Z",
          "start_time": "2019-10-21T02:01:25.582Z"
        },
        "id": "rwuL-tXGSj8k",
        "cellView": "form"
      },
      "outputs": [],
      "source": [
        "#@markdown **(b)** Realizar **4 histogramas** y a cada uno de ellos superponerle\n",
        "#@markdown la **densidad de la normal estándar**.\n",
        "\n",
        "# Parameters\n",
        "n_values = [2, 5, 30, 500]\n",
        "\n",
        "# Initialize a 2x2 grid of subplots\n",
        "fig, axs = plt.subplots(2, 2, figsize=(12, 8))\n",
        "fig.subplots_adjust(hspace=0.5)\n",
        "\n",
        "# Loop through the sample sizes\n",
        "for i, n in enumerate(n_values):\n",
        "    # Calculate the standardized values for the current sample size\n",
        "    promedios = promedios_de[str(n)]\n",
        "    transformed_values = (promedios - (1 / lambda_val)) / np.sqrt((1 / lambda_val**2) / n)\n",
        "\n",
        "    # Create histograms\n",
        "    ax = axs[i // 2, i % 2]\n",
        "    ax.hist(transformed_values, bins=30, density=True, color=\"lightblue\")\n",
        "\n",
        "    # Overlay a standard normal distribution curve\n",
        "    x = np.linspace(-6, 6, 100)\n",
        "    ax.plot(x, stats.norm.pdf(x), color=\"orange\")\n",
        "\n",
        "    # Add legends\n",
        "    ax.legend([\"Normal estándar\", \"Muestra normalizada\"], loc=\"upper right\")\n",
        "\n",
        "    # Set subplot titles\n",
        "    ax.set_title(f\"n={n}\")\n",
        "\n",
        "    # Set x and y axis labels\n",
        "    ax.set_xlabel(\"Standardized Value\")\n",
        "    ax.set_ylabel(\"Density\")\n",
        "\n",
        "# Show the plots\n",
        "plt.tight_layout()\n",
        "plt.show()"
      ]
    },
    {
      "cell_type": "markdown",
      "metadata": {
        "id": "AiVIoxxQztQ3"
      },
      "source": [
        "Es posible observar como, a pesar de tener variables aleatorias exponenciales con rango entre $0$ y $+\\infty$, al normalizar los promedios, obtenemos valores negativos.\n",
        "\n",
        "**A medida que aumentamos el tamaño de la muestra**, la frecuencia y valores de los promedios obtenidos se asemeja en gran medida a una **distribución Normal estándar**."
      ]
    },
    {
      "cell_type": "markdown",
      "metadata": {
        "id": "SbeQdT78ztQ4"
      },
      "source": [
        "> **4.** Repetiremos los ítems anteriores generando ahora muestras de variables aleatorias independientes con distribución $Bi(n, p)$, con $n= 10 $ y $p= \\frac{1}{4}$, y con la distribución binomial\n",
        "\n",
        "> [Hint: Power Law](https://en.wikipedia.org/wiki/Power_law)."
      ]
    },
    {
      "cell_type": "code",
      "source": [
        "def binomial_pmf(n, p, k):\n",
        "    return stats.binom.pmf(k, n, p)\n",
        "\n",
        "def grilla_binomial(n, p, desde=0, hasta=n, step=1):\n",
        "    xs = np.arange(desde, hasta + step, step)\n",
        "    ys = [binomial_pmf(n, p, x) for x in xs]\n",
        "\n",
        "    valores = pd.DataFrame({\n",
        "        'xs': xs,\n",
        "        'ys': ys\n",
        "    })\n",
        "\n",
        "    return valores\n",
        "\n",
        "np.random.seed(10)\n",
        "\n",
        "n = 10 # @param {type:\"number\"}\n",
        "p = 0.25 # @param {type:\"number\"}\n",
        "n_max = 3000 # @param {type:\"number\"}\n",
        "\n",
        "grid = grilla_binomial(n, p)\n",
        "print(grid.head())"
      ],
      "metadata": {
        "cellView": "form",
        "id": "8t_DaY1IgAXC"
      },
      "execution_count": null,
      "outputs": []
    },
    {
      "cell_type": "code",
      "source": [
        "# @markdown ---\n",
        "# @markdown ### Generar muestras siguiendo $Bi(n, p)$:\n",
        "# @markdown ---\n",
        "\n",
        "# Parameters\n",
        "esperanza_binomial = n * p\n",
        "\n",
        "# Generate random binomial samples\n",
        "muestras_de_binomial = np.random.binomial(n, p, size=n_max)\n",
        "\n",
        "# Calculate counts for each k value\n",
        "counts = np.zeros(n + 1)\n",
        "for k in range(n + 1):\n",
        "    counts[k] = np.sum(muestras_de_binomial == k)\n",
        "\n",
        "# Normalize frequencies to obtain an empirical probability mass function (PMF)\n",
        "empirica = counts / n_max\n",
        "\n",
        "# Create the first plot comparing empirical and binomial PMF\n",
        "plt.figure(figsize=(6, 5))\n",
        "\n",
        "plt.plot(range(n + 1), empirica, marker='o', markersize=4, label='Empirical F', color='blue')\n",
        "plt.plot(grilla_binomial(n, p)['xs'], grilla_binomial(n, p)['ys'], label='Binomial PDF', color='orange')\n",
        "plt.axvline(esperanza_binomial, color='red', linestyle='--', label='E [ X ] = n.p')\n",
        "plt.title('Empirical F vs Binomial PDF')\n",
        "plt.xlabel('k')\n",
        "plt.ylabel('Probabilidad')\n",
        "plt.xlim(-0.5,10.5)\n",
        "plt.legend()\n",
        "\n",
        "plt.tight_layout()\n",
        "plt.show()"
      ],
      "metadata": {
        "cellView": "form",
        "id": "fIXMfRd3gS9s"
      },
      "execution_count": null,
      "outputs": []
    },
    {
      "cell_type": "code",
      "source": [
        "# @markdown ### Determina la media al variar las observaciones :\n",
        "\n",
        "# Initialize an array for storing the running averages\n",
        "promedios = np.zeros(max_n)\n",
        "\n",
        "# Calculate the running averages for different sample sizes\n",
        "for i in range(1, max_n + 1):\n",
        "    samples = np.random.binomial(n, p, size=i)\n",
        "    promedios[i - 1] = np.mean(samples)\n",
        "\n",
        "# Create a plot\n",
        "plt.figure(figsize=(10, 6))\n",
        "plt.plot(range(1, max_n + 1), promedios, marker='o', markersize=2, color=\"blue\")\n",
        "plt.axhline(y=n * p, color=\"red\", linestyle=\"--\", linewidth=2, label=\"Expected Value\")\n",
        "plt.xlabel(\"Number of Experiments\")\n",
        "plt.ylabel(\"Running Average of Binomial Experiments\")\n",
        "plt.title(\"Running Average vs. Number of Experiments\")\n",
        "plt.legend()\n",
        "plt.grid()\n",
        "plt.show()"
      ],
      "metadata": {
        "cellView": "form",
        "id": "iXMXymRKhE0X"
      },
      "execution_count": null,
      "outputs": []
    },
    {
      "cell_type": "code",
      "source": [
        "# @markdown ### Determina la frecuencia relativa al variar las observaciones :\n",
        "\n",
        "# Initialize an array for storing the running averages\n",
        "promedios = np.zeros(max_n)\n",
        "\n",
        "# Calculate the running averages for different sample sizes\n",
        "for i in range(1, max_n + 1):\n",
        "    samples = np.random.binomial(n, p, size=i)\n",
        "    promedios[i - 1] = np.mean(samples)\n",
        "\n",
        "promedios_de = {}\n",
        "\n",
        "# Create a histogram of running averages\n",
        "plt.figure(figsize=(10, 6))\n",
        "plt.hist(promedios, bins=30, color=\"blue\", density=True, alpha=0.7)\n",
        "plt.axvline(x=n * p, color=\"red\", linestyle=\"--\", linewidth=2, label=\"E [ X[n] ] = n * p\")\n",
        "plt.xlabel(\"Running Average of Binomial Experiments\")\n",
        "plt.ylabel(\"Relative Frequency\")\n",
        "plt.title(\"Relative Frequency of Running Averages\")\n",
        "plt.legend()\n",
        "\n",
        "# Add annotations\n",
        "plt.text(0.7, 0.8, \"Cant experimentos en rango\", transform=plt.gca().transAxes, color=\"blue\")\n",
        "plt.text(0.7, 0.75, r'$E(\\bar{X}[n]) = \\frac{1}{n} \\cdot E\\left(\\sum_{j=1}^{n} x_j\\right)$', transform=plt.gca().transAxes, color=\"red\")\n",
        "plt.text(0.7, 0.7, r'$E(\\bar{X}[n]) = n \\cdot p$', transform=plt.gca().transAxes, color=\"red\")\n",
        "\n",
        "plt.show()"
      ],
      "metadata": {
        "cellView": "form",
        "id": "EAKQ9A5EhTOD"
      },
      "execution_count": null,
      "outputs": []
    },
    {
      "cell_type": "markdown",
      "source": [
        ">   **(a)** Considerar dos observaciones $x_1$ y $x_2$ de variables aleatorias $X_1$ y $X_2$ independientes con distribución $Bi(n, p)$ y **guardar el promedio de ambas**.\n",
        ">   \n",
        ">   Repetir 1000 veces y a partir de los valores obtenidos realizar un ***histograma y un boxplot***.\n",
        ">\n",
        ">   ¿Qué características tienen?"
      ],
      "metadata": {
        "id": "Ou9yR8OtyBrn"
      }
    },
    {
      "cell_type": "code",
      "execution_count": null,
      "metadata": {
        "id": "HYsnYxKQSj8n",
        "cellView": "form"
      },
      "outputs": [],
      "source": [
        "cant_exper = 1000 # @param {type:\"number\"}\n",
        "o = 2 # @param {type:\"number\"}\n",
        "\n",
        "# Initialize an array for storing the means of 2-sample means\n",
        "promedios_de[str(o)] = np.zeros(cant_exper)\n",
        "\n",
        "# Calculate the means of 2-sample means\n",
        "for i in range(cant_exper):\n",
        "    samples = np.random.binomial(n, p, size=o)\n",
        "    promedios_de[str(o)][i] = np.mean(samples)\n",
        "\n",
        "# Create a 2x2 grid of plots\n",
        "plt.figure(figsize=(12, 8))\n",
        "\n",
        "# Histogram\n",
        "plt.subplot(2, 2, 1)\n",
        "plt.hist(promedios_de[str(o)], bins=30, density=True, color=\"lightblue\", alpha=0.7)\n",
        "plt.title(\"Histogram of {0}-Sample Means\".format(o))\n",
        "\n",
        "# Boxplot\n",
        "plt.subplot(2, 2, 2)\n",
        "plt.boxplot(promedios_de[str(o)])\n",
        "plt.title(\"Boxplot of {0}-Sample Means\".format(o))\n",
        "\n",
        "# Show the plots\n",
        "plt.tight_layout()\n",
        "plt.show()"
      ]
    },
    {
      "cell_type": "markdown",
      "metadata": {
        "id": "C5GxAKaZSj8s"
      },
      "source": [
        ">   **(b)** Aumentar a **cinco** las **variables promediadas**, es decir, considerar ahora **n = 5** observaciones de variables aleatorias independientes con la misma distribución del ítem anterior y guardar $\\bar x_5$.\n",
        ">   Comparar con los obtenidos en el ítem anterior. ¿Qué se observa?"
      ]
    },
    {
      "cell_type": "markdown",
      "metadata": {
        "id": "2XQkZUxYSj8s"
      },
      "source": [
        ">   **(c)** Aumentar a n = 30 el número de observaciones de v.a. i.i.d. y repetir el ítem anterior.\n",
        ">\n",
        ">   Repetir todo con n = 500."
      ]
    },
    {
      "cell_type": "markdown",
      "metadata": {
        "id": "GYN2vKEDSj8t"
      },
      "source": [
        ">Siguiendo el **Teorema Central del Límite**\n",
        "\n",
        ">   $$\\frac{\\bar X_n - E[X_1]}{\\sqrt\\frac{Var(X_1)}{n}}$$\n",
        "\n",
        ">   Comprobaremos mediante una simulación este resultado."
      ]
    },
    {
      "cell_type": "code",
      "source": [
        "#@markdown **(a)** Transformamos los 4 conjuntos de datos y graficamos los boxplots \\\n",
        "#@markdown ¿Qué pasaría si se siguiera aumentando el tamaño de la muestra?\n",
        "\n",
        "# Parameters\n",
        "o_values = [2, 5, 30, 500]\n",
        "\n",
        "# Initialize arrays for storing the transformed values\n",
        "transformed_values = {}\n",
        "\n",
        "# Calculate the transformed values for each sample size\n",
        "for o in o_values:\n",
        "    promedios = promedios_de[str(o)]\n",
        "\n",
        "    # Standardize the values\n",
        "    mean = n * p\n",
        "    std_dev = np.sqrt((n * p * (1 - p)) / o)\n",
        "    transformed_values[str(o)] = (promedios - mean) / std_dev\n",
        "\n",
        "# Create a boxplot\n",
        "plt.figure(figsize=(8, 6))\n",
        "plt.boxplot([transformed_values[str(s)] for s in o_values], labels=o_values)\n",
        "plt.title(\"Boxplot of Standardized Sample Means\")\n",
        "plt.xlabel(\"Sample Size (n)\")\n",
        "plt.ylabel(\"Standardized Value\")\n",
        "plt.grid()\n",
        "plt.show()"
      ],
      "metadata": {
        "cellView": "form",
        "id": "TF1atpaRjKLK"
      },
      "execution_count": null,
      "outputs": []
    },
    {
      "cell_type": "code",
      "source": [
        "#@markdown **(b)** Realizar **4 histogramas** y a cada uno de ellos superponerle la **densidad de la normal estándar**.\n",
        "\n",
        "# Standardized sample means for different sample sizes\n",
        "o_values = [2, 5, 30, 500]\n",
        "\n",
        "# Create a 2x2 grid of plots\n",
        "fig, axes = plt.subplots(2, 2, figsize=(10, 8))\n",
        "fig.suptitle(\"Histograms of Standardized Sample Means vs. Normal Distribution\", fontsize=16)\n",
        "\n",
        "for i, o in enumerate(o_values):\n",
        "    row = i // 2\n",
        "    col = i % 2\n",
        "    ax = axes[row, col]\n",
        "\n",
        "    # Histogram for standardized sample means\n",
        "    ax.hist(transformed_values[str(o)], bins=30, density=True, color=\"lightblue\", alpha=0.7)\n",
        "\n",
        "    # Plot the standard normal distribution curve\n",
        "    x_range = np.linspace(-6, 6, 100)\n",
        "    ax.plot(x_range, stats.norm.pdf(x_range), color=\"orange\", label=\"Normal estándar\")\n",
        "\n",
        "    # Add legend\n",
        "    ax.legend(loc=\"upper right\")\n",
        "\n",
        "    # Set title and labels\n",
        "    ax.set_title(f\"n={o}\")\n",
        "    ax.set_xlabel(\"Standardized Value\")\n",
        "    ax.set_ylabel(\"Density\")\n",
        "\n",
        "# Adjust layout\n",
        "plt.tight_layout(rect=[0, 0, 1, 0.95])\n",
        "plt.show()"
      ],
      "metadata": {
        "cellView": "form",
        "id": "LrHa_KpgkoGC"
      },
      "execution_count": null,
      "outputs": []
    }
  ],
  "metadata": {
    "colab": {
      "provenance": [],
      "collapsed_sections": [
        "vAg8z8ecztQU",
        "-wTz2fUjrpFp"
      ]
    },
    "kernelspec": {
      "display_name": "Python 3",
      "name": "python3"
    },
    "language_info": {
      "name": "python"
    },
    "toc": {
      "base_numbering": 1,
      "nav_menu": {},
      "number_sections": true,
      "sideBar": true,
      "skip_h1_title": true,
      "title_cell": "Table of Contents",
      "title_sidebar": "Contents",
      "toc_cell": false,
      "toc_position": {},
      "toc_section_display": true,
      "toc_window_display": false
    }
  },
  "nbformat": 4,
  "nbformat_minor": 0
}