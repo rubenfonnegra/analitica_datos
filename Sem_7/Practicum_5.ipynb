{
  "cells": [
    {
      "cell_type": "markdown",
      "source": [
        "# **Agglomerative Clustering**\n",
        "\n",
        "Useful dataset: [fruits dataset](https://drive.google.com/file/d/1M8tiAWDZclABJN1Meq9oEHCLJTNyHdpP/view?usp=share_link) \\\n",
        "Useful dataset: [Mall customers dataset](https://drive.google.com/file/d/1jACghC-it0Hlb091tc2BH_RgrFWOXXih/view?usp=sharing)"
      ],
      "metadata": {
        "id": "gWtjehyXmf1A"
      }
    },
    {
      "cell_type": "code",
      "execution_count": null,
      "metadata": {
        "id": "h5889ZUcnLsZ"
      },
      "outputs": [],
      "source": [
        "import numpy as np\n",
        "import pandas as pd\n",
        "import seaborn as sns\n",
        "import matplotlib.pyplot as plt\n",
        "\n",
        "from scipy.cluster.hierarchy import dendrogram, linkage\n",
        "from sklearn.cluster import AgglomerativeClustering\n",
        "\n",
        "import warnings\n",
        "warnings.filterwarnings('ignore')"
      ]
    },
    {
      "cell_type": "code",
      "execution_count": null,
      "metadata": {
        "id": "_oXWh70wnLsZ"
      },
      "outputs": [],
      "source": [
        "data = _\n",
        "X = _\n",
        "\n",
        "plt.scatter( _ , _ , cmap = 'Paired')\n",
        "print (X.shape)"
      ]
    },
    {
      "cell_type": "code",
      "source": [
        "plt.figure(figsize =(12, 8))\n",
        "plt.title('Dendrogram')\n",
        "\n",
        "Dendrogram = dendrogram((linkage(X, method='ward')))\n",
        "plt.show()"
      ],
      "metadata": {
        "id": "uvKr-nwXmfCL"
      },
      "execution_count": null,
      "outputs": []
    },
    {
      "cell_type": "code",
      "source": [
        "model = AgglomerativeClustering(distance_threshold= _ , n_clusters=None)\n",
        "predictions = _"
      ],
      "metadata": {
        "id": "shuvlczDnTp1"
      },
      "execution_count": null,
      "outputs": []
    },
    {
      "cell_type": "code",
      "source": [
        "# Plot predictions\n"
      ],
      "metadata": {
        "id": "dXaX4bp_GKnE"
      },
      "execution_count": null,
      "outputs": []
    }
  ],
  "metadata": {
    "colab": {
      "provenance": [],
      "collapsed_sections": [
        "gWtjehyXmf1A"
      ]
    },
    "kernelspec": {
      "display_name": "Python 3",
      "name": "python3"
    }
  },
  "nbformat": 4,
  "nbformat_minor": 0
}