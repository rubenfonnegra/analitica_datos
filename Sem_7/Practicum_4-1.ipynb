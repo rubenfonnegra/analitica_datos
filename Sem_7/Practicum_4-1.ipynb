{
  "cells": [
    {
      "cell_type": "markdown",
      "metadata": {
        "id": "FdKFvKxELhua"
      },
      "source": [
        "# **Cluster selection using K-Means**\n",
        "\n",
        "Useful dataset: [fruits dataset](https://drive.google.com/file/d/1M8tiAWDZclABJN1Meq9oEHCLJTNyHdpP/view?usp=share_link) \\\n",
        "Useful dataset: [Mall customers dataset](https://drive.google.com/file/d/1jACghC-it0Hlb091tc2BH_RgrFWOXXih/view?usp=sharing)"
      ]
    },
    {
      "cell_type": "code",
      "execution_count": null,
      "metadata": {
        "id": "9bgl9Y7CLtfX"
      },
      "outputs": [],
      "source": [
        "import numpy as np\n",
        "import pandas as pd\n",
        "import seaborn as sns\n",
        "import matplotlib.pyplot as plt\n",
        "\n",
        "from sklearn.cluster import KMeans\n",
        "from yellowbrick.cluster import KElbowVisualizer\n",
        "\n",
        "import warnings\n",
        "warnings.filterwarnings('ignore')"
      ]
    },
    {
      "cell_type": "code",
      "execution_count": null,
      "metadata": {
        "id": "5nqHh2DzLtfr"
      },
      "outputs": [],
      "source": [
        "data = _\n",
        "X = _\n",
        "\n",
        "plt.scatter( _ , _ , cmap = 'Paired')\n",
        "print (X.shape)"
      ]
    },
    {
      "cell_type": "markdown",
      "metadata": {
        "id": "xOfPHu_0JAVs"
      },
      "source": [
        "## **Elbow and Silhouette method**"
      ]
    },
    {
      "cell_type": "code",
      "source": [
        "_, axes = plt.subplots(1,2,figsize=(15,5))\n",
        "\n",
        "model = KMeans()\n",
        "visualizer = KElbowVisualizer(model, k = _ , metric='silhouette', ax=axes[0])\n",
        "visualizer.fit(X)\n",
        "axes[0].set_title('Silhouette')\n",
        "\n",
        "visualizer = KElbowVisualizer(model, k = _ , metric='distortion', ax=axes[1])\n",
        "visualizer.fit(X)\n",
        "axes[1].set_title('Distortion')"
      ],
      "metadata": {
        "id": "vLipo4mplV0i"
      },
      "execution_count": null,
      "outputs": []
    },
    {
      "cell_type": "markdown",
      "metadata": {
        "id": "CLT1ShuzfMPv"
      },
      "source": [
        "## **Clustering**"
      ]
    },
    {
      "cell_type": "code",
      "execution_count": null,
      "metadata": {
        "id": "MBKuzrWUesGY"
      },
      "outputs": [],
      "source": [
        "kmeans = KMeans ( n_clusters = _ ).fit( _ )\n",
        "centroids = kmeans.cluster_centers_\n",
        "print(centroids)"
      ]
    },
    {
      "cell_type": "code",
      "execution_count": null,
      "metadata": {
        "id": "FdBpzFEUgAIP"
      },
      "outputs": [],
      "source": [
        "predictions = kmeans.predict( _ )"
      ]
    },
    {
      "cell_type": "code",
      "execution_count": null,
      "metadata": {
        "id": "umujXpi7fLaX"
      },
      "outputs": [],
      "source": [
        "# Plot predictions\n",
        "_"
      ]
    }
  ],
  "metadata": {
    "colab": {
      "provenance": [],
      "collapsed_sections": [
        "FdKFvKxELhua",
        "xOfPHu_0JAVs",
        "CLT1ShuzfMPv",
        "gWtjehyXmf1A"
      ]
    },
    "kernelspec": {
      "display_name": "Python 3",
      "name": "python3"
    }
  },
  "nbformat": 4,
  "nbformat_minor": 0
}