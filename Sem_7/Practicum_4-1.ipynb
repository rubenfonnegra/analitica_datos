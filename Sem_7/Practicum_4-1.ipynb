{
  "cells": [
    {
      "cell_type": "markdown",
      "metadata": {
        "id": "FdKFvKxELhua"
      },
      "source": [
        "# **K-Means - Real data**\n",
        "\n",
        "Useful dataset: [fruits dataset](https://drive.google.com/file/d/1M8tiAWDZclABJN1Meq9oEHCLJTNyHdpP/view?usp=share_link) \\\n",
        "Useful dataset: [Mall customers dataset](https://drive.google.com/file/d/1jACghC-it0Hlb091tc2BH_RgrFWOXXih/view?usp=sharing)"
      ]
    },
    {
      "cell_type": "code",
      "execution_count": null,
      "metadata": {
        "id": "9bgl9Y7CLtfX"
      },
      "outputs": [],
      "source": [
        "import numpy as np\n",
        "import pandas as pd\n",
        "import seaborn as sns\n",
        "import matplotlib.pyplot as plt\n",
        "from sklearn.cluster import KMeans\n",
        "from sklearn.datasets import load_iris"
      ]
    },
    {
      "cell_type": "code",
      "execution_count": null,
      "metadata": {
        "id": "5nqHh2DzLtfr"
      },
      "outputs": [],
      "source": [
        "data =\n",
        "x = _\n",
        "y = _\n",
        "\n",
        "plt.scatter( _ , _ , cmap = plt.cm.Paired)\n",
        "print (x.shape, y.shape)"
      ]
    },
    {
      "cell_type": "markdown",
      "metadata": {
        "id": "xOfPHu_0JAVs"
      },
      "source": [
        "## **Elbow method**"
      ]
    },
    {
      "cell_type": "code",
      "execution_count": null,
      "metadata": {
        "id": "bAId6OGFJAWK"
      },
      "outputs": [],
      "source": [
        "# Create a distance function\n",
        "def euclidean_distance(pt1, pt2):\n",
        "  assert len(pt1) == 2, \"Error! No 2d point\"\n",
        "  assert len(pt2) == 2, \"Error! No 2d point\"\n",
        "  return (pt1[0] - pt2[0]) ** 2 + (pt1[1] - pt2[1]) ** 2"
      ]
    },
    {
      "cell_type": "code",
      "execution_count": null,
      "metadata": {
        "id": "MfiflrhRJAWL"
      },
      "outputs": [],
      "source": [
        "# Define num of clusters\n",
        "clusters = [ _ ]\n",
        "elbow_distances = []\n",
        "\n",
        "# Eval kmeans over each num of clusters\n",
        "for _ in _ :\n",
        "  kmeans = KMeans(n_clusters = _ )\n",
        "  kmeans.fit( _ )\n",
        "\n",
        "  centroides = kmeans.cluster_centers_\n",
        "  predictions = kmeans.predict( _ )\n",
        "  distance = 0\n",
        "\n",
        "  for _ in _ :\n",
        "    centroide = centroides[predictions[i]]\n",
        "    distance += euclidean_distance( _ , _ )\n",
        "\n",
        "  elbow_distances.append(distance/len(x))\n",
        "\n",
        "print (len(elbow_distances))"
      ]
    },
    {
      "cell_type": "code",
      "execution_count": null,
      "metadata": {
        "id": "YbQUnByAJAWL"
      },
      "outputs": [],
      "source": [
        "# Plot the elbow\n",
        "_, ax = plt.subplots (figsize = (7,7))\n",
        "ax.plot( _ , _ , marker=\"x\")\n",
        "ax.set_title(\"Elbow\")"
      ]
    },
    {
      "cell_type": "markdown",
      "metadata": {
        "id": "yZr5FJMDJAWM"
      },
      "source": [
        "## **Silhouette method**"
      ]
    },
    {
      "cell_type": "code",
      "execution_count": null,
      "metadata": {
        "colab": {
          "base_uri": "https://localhost:8080/"
        },
        "outputId": "50ce4623-586c-40f4-8e1c-0602488f1a3e",
        "id": "t3uo6Iw8JAWM"
      },
      "outputs": [
        {
          "name": "stdout",
          "output_type": "stream",
          "text": [
            "9\n"
          ]
        }
      ],
      "source": [
        "from sklearn.metrics import silhouette_score\n",
        "\n",
        "# Define num of clusters\n",
        "clusters = [ _ ]\n",
        "silhouette_distances = []\n",
        "\n",
        "# Eval kmeans over each num of clusters\n",
        "for _ in _ :\n",
        "  kmeans = KMeans(n_clusters = _ )\n",
        "  kmeans.fit( _ )\n",
        "\n",
        "  predictions = kmeans.predict( _ )\n",
        "  distance = silhouette_score( _ , _ , metric=\"euclidean\")\n",
        "\n",
        "  silhouette_distances.append(distance)\n",
        "\n",
        "print (len(silhouette_distances))"
      ]
    },
    {
      "cell_type": "code",
      "execution_count": null,
      "metadata": {
        "id": "hTI1vjj-JAWN"
      },
      "outputs": [],
      "source": [
        "# Plot the silhouette\n",
        "_, ax = plt.subplots (figsize = (7,7))\n",
        "ax.plot( _ , _ , marker=\"x\")\n",
        "ax.set_title(\"Silhouette\")"
      ]
    },
    {
      "cell_type": "markdown",
      "metadata": {
        "id": "Xf9dht41eGCL"
      },
      "source": [
        "## **Comparison**"
      ]
    },
    {
      "cell_type": "code",
      "execution_count": null,
      "metadata": {
        "id": "qnDvRWG_eFq4"
      },
      "outputs": [],
      "source": [
        "_, axes = plt.subplots(1,2, figsize=(13,5))\n",
        "axes[0].plot( _ , _ , marker = \"x\"); axes[0].set_title(\"Elbow\")\n",
        "axes[1].plot( _ , _ , marker = \"x\"); axes[1].set_title(\"Silhouette\")"
      ]
    },
    {
      "cell_type": "markdown",
      "metadata": {
        "id": "CLT1ShuzfMPv"
      },
      "source": [
        "## **Clustering**"
      ]
    },
    {
      "cell_type": "code",
      "execution_count": null,
      "metadata": {
        "id": "MBKuzrWUesGY"
      },
      "outputs": [],
      "source": [
        "kmeans = KMeans ( n_clusters = _ ).fit( _ )\n",
        "centroids = kmeans.cluster_centers_\n",
        "print(centroids)"
      ]
    },
    {
      "cell_type": "code",
      "execution_count": null,
      "metadata": {
        "id": "FdBpzFEUgAIP"
      },
      "outputs": [],
      "source": [
        "predictions = kmeans.predict( _ )"
      ]
    },
    {
      "cell_type": "code",
      "execution_count": null,
      "metadata": {
        "id": "umujXpi7fLaX"
      },
      "outputs": [],
      "source": [
        "# Plot decision boundaries\n",
        "_"
      ]
    }
  ],
  "metadata": {
    "colab": {
      "collapsed_sections": [
        "xOfPHu_0JAVs",
        "yZr5FJMDJAWM",
        "Xf9dht41eGCL",
        "CLT1ShuzfMPv"
      ],
      "provenance": []
    },
    "kernelspec": {
      "display_name": "Python 3",
      "name": "python3"
    }
  },
  "nbformat": 4,
  "nbformat_minor": 0
}