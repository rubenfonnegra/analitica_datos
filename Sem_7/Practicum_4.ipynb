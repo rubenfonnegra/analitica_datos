{
  "nbformat": 4,
  "nbformat_minor": 0,
  "metadata": {
    "colab": {
      "provenance": [],
      "collapsed_sections": [
        "JC-IJfoeK7hD",
        "a3rbTo0zMCeW",
        "rRSkfgspLKO2"
      ]
    },
    "kernelspec": {
      "name": "python3",
      "display_name": "Python 3"
    },
    "language_info": {
      "name": "python"
    }
  },
  "cells": [
    {
      "cell_type": "markdown",
      "source": [
        "# **🗃️ Data Lab**"
      ],
      "metadata": {
        "id": "JC-IJfoeK7hD"
      }
    },
    {
      "cell_type": "code",
      "execution_count": null,
      "metadata": {
        "id": "uTPPONJHzBR5",
        "cellView": "form"
      },
      "outputs": [],
      "source": [
        "import time\n",
        "import warnings\n",
        "warnings.filterwarnings(\"ignore\")\n",
        "\n",
        "import numpy as np\n",
        "import matplotlib.pyplot as plt\n",
        "\n",
        "from sklearn import datasets\n",
        "from sklearn.preprocessing import StandardScaler\n",
        "\n",
        "# @markdown \\\n",
        "\n",
        "# ============\n",
        "# Parameters\n",
        "# ============\n",
        "\n",
        "n_samples = 500 # @param {type:\"integer\"}\n",
        "type_dataset = \"blobs\" # @param [\"noisy_circles\", \"noisy_moons\", \"blobs\", \"no_structure\", \"anisotropic\", \"varied_var\"]\n",
        "noise = 0.04 # @param {type:\"slider\", min:0, max:0.5, step:0.01}\n",
        "angle_aniso = 100 # @param {type:\"slider\", min:0, max:180, step:10}\n",
        "random_state = 2 # @param {type:\"integer\"}\n",
        "\n",
        "\n",
        "# ============\n",
        "# Generate datasets. We choose the size big enough to see the scalability\n",
        "# of the algorithms, but not too big to avoid too long running times\n",
        "# ============\n",
        "\n",
        "if type_dataset == \"noisy_circles\":\n",
        "  X, _ = datasets.make_circles(n_samples=n_samples, factor=0.5, noise=noise, random_state=random_state)\n",
        "\n",
        "elif type_dataset == \"noisy_moons\":\n",
        "  X, _ = datasets.make_moons(n_samples=n_samples, noise=noise, random_state=random_state)\n",
        "\n",
        "elif type_dataset == \"blobs\":\n",
        "  X, _ = datasets.make_blobs(n_samples=n_samples, random_state=random_state)\n",
        "  X += np.random.rand(n_samples, 2)*noise*X.min()\n",
        "\n",
        "elif type_dataset == \"no_structure\":\n",
        "  X = np.random.rand(n_samples, 2)\n",
        "\n",
        "elif type_dataset == \"anisotropic\":\n",
        "  X, _ = datasets.make_blobs(n_samples=n_samples, random_state=random_state)\n",
        "  t = np.tan(np.radians(angle_aniso))\n",
        "  transformation = np.array(((1, t), (0, 1))).T\n",
        "  X = np.dot(X, transformation)\n",
        "  X += np.random.rand(n_samples, 2)*noise*X.min()\n",
        "\n",
        "elif type_dataset == \"varied_var\":\n",
        "  X, _ = datasets.make_blobs(n_samples=n_samples, cluster_std=[1.0, 2.5, 0.5], random_state=random_state)\n",
        "  X += np.random.rand(n_samples, 2)*noise*X.min()\n",
        "\n",
        "X = StandardScaler().fit_transform(X)\n",
        "\n",
        "_, ax = plt.subplots(figsize=(5,4))\n",
        "ax.scatter(X[:, 0], X[:, 1], edgecolors='k')\n",
        "\n",
        "print (\"\\nData shape: {0} \\n\".format(X.shape))"
      ]
    },
    {
      "cell_type": "markdown",
      "source": [
        " # **📋 Set up K-Means**"
      ],
      "metadata": {
        "id": "a3rbTo0zMCeW"
      }
    },
    {
      "cell_type": "code",
      "source": [
        "import os\n",
        "import time\n",
        "import numpy as np\n",
        "from PIL import Image\n",
        "import matplotlib.pyplot as plt\n",
        "from natsort import natsorted, ns\n",
        "import warnings\n",
        "warnings.filterwarnings('ignore')\n",
        "\n",
        "from sklearn.metrics import pairwise_distances_argmin\n",
        "from sklearn.datasets import make_blobs\n",
        "from IPython.display import clear_output\n",
        "\n",
        "# @markdown \\\n",
        "\n",
        "class Interactive_KMeans():\n",
        "    def __init__ (self, n_clusters=5, nsteps=10, random_state=2):\n",
        "      #\n",
        "      self.n_clusters = n_clusters\n",
        "      self.nsteps = nsteps\n",
        "      self.random_state = np.random.RandomState(random_state)\n",
        "\n",
        "    def plot_points(self, X, labels, n_clusters):\n",
        "        plt.scatter(X[:, 0], X[:, 1], c=labels, s=50, cmap='viridis',\n",
        "                    vmin=0, vmax=n_clusters - 1);\n",
        "\n",
        "    def plot_centers(self, centers, edgecolors='r'):\n",
        "        plt.scatter(centers[:, 0], centers[:, 1], marker='o', facecolors=\"none\",\n",
        "                    s=200, edgecolors=edgecolors, linewidth=3)\n",
        "        # plt.scatter(centers[:, 0], centers[:, 1], marker='o',\n",
        "        #             c='black', s=50)\n",
        "\n",
        "    def save_gif (self, path, output_file='out.gif'):\n",
        "        list_files = natsorted(os.listdir(path), alg=ns.PATH)\n",
        "        all_images = []\n",
        "\n",
        "        # Save a gif\n",
        "        for file_ in list_files[1:]:\n",
        "          img = Image.open(path + file_)\n",
        "          all_images.append(img)\n",
        "\n",
        "        img = Image.open(path + list_files[0])\n",
        "        img.save(output_file, save_all=True, append_images=all_images, duration=500, loop=0)\n",
        "        os.system('rm -r {0}'.format(path))\n",
        "\n",
        "\n",
        "    def fit(self, X, output_file='kmeans.gif', tol=1e-4, noise=0.5):\n",
        "        os.makedirs('/images/', exist_ok = True)\n",
        "        labels = np.zeros(X.shape[0])\n",
        "        centers_ = self.random_state.randn(self.n_clusters, 2)\n",
        "        converged_frame = 0\n",
        "\n",
        "        print (\"Plots... \\n\")\n",
        "\n",
        "        for i in range(self.nsteps + 1):\n",
        "            old_centers = centers_.copy()\n",
        "            labels = pairwise_distances_argmin(X, centers_)\n",
        "\n",
        "            centers_ = np.array([X[labels == j].mean(0) for j in range(self.n_clusters)])\n",
        "            nans = np.isnan(centers_)\n",
        "            centers_[nans] = old_centers[nans]+self.random_state.randn()*noise\n",
        "\n",
        "            #Validate centers are separated enough\n",
        "            for m in range(len(centers_)):\n",
        "              for n in range(m+1, len(centers_)):\n",
        "                if abs(centers_[m, :]-centers_[n, :]).mean()<abs(X.min()-X.max())*0.1:\n",
        "                   centers_[n, :] += self.random_state.randn()*noise*0.5\n",
        "                   centers_[m, :] += self.random_state.randn()*noise*0.5\n",
        "\n",
        "            # #Validate centers are separated enough\n",
        "            if abs(centers_ - old_centers).all() < tol:\n",
        "              converged_frame += 1\n",
        "              if converged_frame > 5: break\n",
        "\n",
        "            # plot the data and cluster centers\n",
        "            self.plot_points(X, labels, self.n_clusters)\n",
        "            self.plot_centers(old_centers, edgecolors='b')\n",
        "\n",
        "            for n in range(self.n_clusters):\n",
        "                plt.annotate('', centers_[n], old_centers[n],\n",
        "                            arrowprops=dict(arrowstyle='->', color='r', linewidth=3))\n",
        "\n",
        "            self.plot_centers(centers_, edgecolors='r')\n",
        "\n",
        "            plt.savefig('/images/{0}.png'.format(i), bbox_inches=0, pad_inches='tight')\n",
        "            plt.close(), plt.clf()\n",
        "\n",
        "        self.save_gif ('/images/', output_file=output_file)\n",
        "        self.centers_ = centers_\n",
        "\n",
        "\n",
        "\n",
        "# ============\n",
        "# Parameters\n",
        "# ============\n",
        "\n",
        "n_clusters = 2 # @param {type:\"integer\"}\n",
        "max_steps = 1 # @param {type:\"integer\"}\n",
        "random_state = 1 # @param {type:\"integer\"}\n",
        "\n",
        "kmeans = Interactive_KMeans(n_clusters=n_clusters, nsteps=max_steps, random_state=random_state);\n",
        "\n",
        "print (\"\\nModel is ready!\\n\")"
      ],
      "metadata": {
        "cellView": "form",
        "id": "GdOQ8eLPMEID",
        "colab": {
          "base_uri": "https://localhost:8080/"
        },
        "outputId": "cc817639-22c8-4b7c-9b2c-b9b414be171e"
      },
      "execution_count": null,
      "outputs": [
        {
          "output_type": "stream",
          "name": "stdout",
          "text": [
            "\n",
            "Model is ready!\n",
            "\n"
          ]
        }
      ]
    },
    {
      "cell_type": "markdown",
      "source": [
        "# **🤖 Run training!**"
      ],
      "metadata": {
        "id": "rRSkfgspLKO2"
      }
    },
    {
      "cell_type": "code",
      "source": [
        "\n",
        "# @markdown ### Start now 🦾\n",
        "# @markdown \\\n",
        "\n",
        "kmeans.fit(X, output_file='kmeans_{0}.gif'.format(random_state))\n",
        "\n",
        "print (\"\\nTraining done! ✅\")\n"
      ],
      "metadata": {
        "cellView": "form",
        "id": "51EH-FHOxqPZ",
        "colab": {
          "base_uri": "https://localhost:8080/",
          "height": 104
        },
        "outputId": "f42ffbcd-e80b-4c76-8e41-651e52bdf80b"
      },
      "execution_count": null,
      "outputs": [
        {
          "output_type": "stream",
          "name": "stdout",
          "text": [
            "Plots... \n",
            "\n",
            "\n",
            "Training done! ✅\n"
          ]
        },
        {
          "output_type": "display_data",
          "data": {
            "text/plain": [
              "<Figure size 640x480 with 0 Axes>"
            ]
          },
          "metadata": {}
        }
      ]
    },
    {
      "cell_type": "code",
      "source": [
        "\n",
        "# @markdown ### 📊 Display result\n",
        "# @markdown \\\n",
        "\n",
        "from IPython.core.interactiveshell import InteractiveShell\n",
        "InteractiveShell.ast_node_interactivity = \"all\"\n",
        "from IPython import display\n",
        "\n",
        "with open('kmeans_{0}.gif'.format(random_state),'rb') as f:\n",
        "    display.Image(data=f.read(), format='png')\n",
        "\n"
      ],
      "metadata": {
        "cellView": "form",
        "id": "Yk546AEdMHA6"
      },
      "execution_count": null,
      "outputs": []
    },
    {
      "cell_type": "markdown",
      "source": [
        "# **👾 Selecting the (right) number of clusters**"
      ],
      "metadata": {
        "id": "h4LywBP42pK1"
      }
    },
    {
      "cell_type": "markdown",
      "source": [
        "## Elbow method"
      ],
      "metadata": {
        "id": "kl7al7PSRw-c"
      }
    },
    {
      "cell_type": "code",
      "execution_count": null,
      "metadata": {
        "id": "B4vlCpTrTo5W",
        "colab": {
          "base_uri": "https://localhost:8080/",
          "height": 520
        },
        "cellView": "form",
        "outputId": "8cdcbb48-0ef7-40d0-d8f9-fdd6ac1c5598"
      },
      "outputs": [
        {
          "output_type": "stream",
          "name": "stdout",
          "text": [
            "\n",
            "Done! ✅ \n",
            "\n"
          ]
        },
        {
          "output_type": "display_data",
          "data": {
            "text/plain": [
              "<Figure size 700x500 with 1 Axes>"
            ],
            "image/png": "[encoded data removed]"
          },
          "metadata": {}
        }
      ],
      "source": [
        "from sklearn import cluster\n",
        "from IPython.display import clear_output\n",
        "\n",
        "# @markdown \\\n",
        "\n",
        "min_n_clusters = 2 # @param {type:\"integer\"}\n",
        "max_n_clusters = 10 # @param {type:\"integer\"}\n",
        "random_state = 1 # @param {type:\"integer\"}\n",
        "model = \"Kmeans\" # @param [\"Kmeans\", \"MiniBatchKMeans\"]\n",
        "random_state = 4 # @param {type:\"integer\"}\n",
        "\n",
        "\n",
        "# Create a distance function\n",
        "def euclidean_distance(pt1, pt2):\n",
        "  assert len(pt1) == 2, \"Error! No 2d point\"\n",
        "  assert len(pt2) == 2, \"Error! No 2d point\"\n",
        "  return (pt1[0] - pt2[0]) ** 2 + (pt1[1] - pt2[1]) ** 2\n",
        "\n",
        "# Define num of clusters\n",
        "clusters = np.arange(min_n_clusters, max_n_clusters)\n",
        "elbow_distances = []\n",
        "\n",
        "# Eval kmeans over each num of clusters\n",
        "for n_cluster in clusters :\n",
        "  #\n",
        "  if model == \"Kmeans\":\n",
        "    kmeans = cluster.KMeans(n_clusters=n_cluster, random_state=random_state);\n",
        "  elif model == \"MiniBatchKMeans\":\n",
        "    kmeans = cluster.MiniBatchKMeans(n_clusters=n_cluster, random_state=random_state);\n",
        "\n",
        "  kmeans.fit( X )\n",
        "\n",
        "  centroids = kmeans.cluster_centers_\n",
        "  predictions = kmeans.predict( X )\n",
        "  distance = 0\n",
        "\n",
        "  for i in range(len(predictions)) :\n",
        "    centroide = centroids[predictions[i]]\n",
        "    distance += euclidean_distance( centroide , X[i] )\n",
        "\n",
        "  elbow_distances.append(distance/len(predictions))\n",
        "\n",
        "# Plot the elbow\n",
        "_, ax = plt.subplots (figsize = (7,5))\n",
        "ax.plot( clusters , elbow_distances , marker=\"x\")\n",
        "ax.set_title(\"Elbow\")\n",
        "clear_output()\n",
        "\n",
        "print (\"\\nDone! ✅ \\n\")"
      ]
    },
    {
      "cell_type": "markdown",
      "source": [
        "## Silhouette method"
      ],
      "metadata": {
        "id": "4vxyd_GVU2ea"
      }
    },
    {
      "cell_type": "code",
      "source": [
        "from sklearn import cluster\n",
        "from sklearn.metrics import silhouette_score\n",
        "from IPython.display import clear_output\n",
        "\n",
        "# @markdown \\\n",
        "\n",
        "min_n_clusters = 2 # @param {type:\"integer\"}\n",
        "max_n_clusters = 9 # @param {type:\"integer\"}\n",
        "random_state = 1 # @param {type:\"integer\"}\n",
        "model = \"Kmeans\" # @param [\"Kmeans\", \"MiniBatchKMeans\"]\n",
        "random_state = 4 # @param {type:\"integer\"}\n",
        "metric = \"euclidean\" # @param [\"euclidean\", \"cityblock\", \"cosine\", \"l1\", \"l2\", \"chebyshev\", \"mahalanobis\"]\n",
        "\n",
        "silhouette_distances = []\n",
        "\n",
        "clusters = np.arange(min_n_clusters, max_n_clusters)\n",
        "elbow_distances = []\n",
        "\n",
        "# Eval kmeans over each num of clusters\n",
        "for n_cluster in clusters :\n",
        "  #\n",
        "  if model == \"Kmeans\":\n",
        "    kmeans = cluster.KMeans(n_clusters=n_cluster, random_state=random_state);\n",
        "  elif model == \"MiniBatchKMeans\":\n",
        "    kmeans = cluster.MiniBatchKMeans(n_clusters=n_cluster, random_state=random_state);\n",
        "\n",
        "  kmeans.fit( X )\n",
        "  predictions = kmeans.predict( X )\n",
        "\n",
        "  distance = silhouette_score( X , predictions.reshape(-1,1) , metric=metric)\n",
        "  silhouette_distances.append(distance)\n",
        "\n",
        "# Plot the silhouette\n",
        "_, ax = plt.subplots (figsize = (7,5))\n",
        "ax.plot( clusters , silhouette_distances , marker=\"x\")\n",
        "ax.set_title(\"Silhouette\")\n",
        "clear_output()\n",
        "\n",
        "print (\"\\nDone! ✅ \\n\")"
      ],
      "metadata": {
        "colab": {
          "base_uri": "https://localhost:8080/",
          "height": 520
        },
        "cellView": "form",
        "id": "-5m67-XQTbnL",
        "outputId": "8cb45bfe-ac00-4390-f5c5-a79ba37ee85e"
      },
      "execution_count": null,
      "outputs": [
        {
          "output_type": "stream",
          "name": "stdout",
          "text": [
            "\n",
            "Done! ✅ \n",
            "\n"
          ]
        },
        {
          "output_type": "display_data",
          "data": {
            "text/plain": [
              "<Figure size 700x500 with 1 Axes>"
            ],
            "image/png": "[encoded data removed]"
          },
          "metadata": {}
        }
      ]
    }
  ]
}